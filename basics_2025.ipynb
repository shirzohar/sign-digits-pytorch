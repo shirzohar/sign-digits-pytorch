{
  "nbformat": 4,
  "nbformat_minor": 0,
  "metadata": {
    "colab": {
      "provenance": []
    },
    "kernelspec": {
      "name": "python3",
      "display_name": "Python 3"
    },
    "language_info": {
      "name": "python"
    },
    "accelerator": "GPU"
  },
  "cells": [
    {
      "cell_type": "markdown",
      "source": [
        "# Mid-semester assignment Part 2 - Basics of deep learning\n",
        "Hello dear students,<br> this is the template notebook. Please copy it into your drive and open as Google Colab nootebook\".\n",
        "\n",
        "---\n",
        "<br>\n",
        "\n",
        "### Name and ID:\n",
        "Student 1: Sivan Zagdon 213002918\n",
        "<br>\n",
        "Student 2: Shir Zohar 323856542"
      ],
      "metadata": {
        "collapsed": false,
        "pycharm": {
          "name": "#%% md\n"
        },
        "id": "XDDbguyGU8Fs"
      }
    },
    {
      "cell_type": "markdown",
      "source": [
        "## Sign Language Digits With PyTorch\n",
        "Sign Language Digits dataset contains 5,000 grayscale images in 10 categories. The images show individual articles of hand sign at low resolution (28 by 28 pixels), as seen here:\n",
        "\n",
        "<table>\n",
        "  <tr><td>\n",
        "    <img src=\"https://www.researchgate.net/publication/344389112/figure/fig8/AS:941467451260937@1601474740275/Sample-images-from-ASL-with-digits-dataset.png\"\n",
        "         alt=\"Fashion MNIST sprite\"  width=\"600\">\n",
        "  </td></tr>\n",
        "  \n",
        "</table>\n",
        "\n"
      ],
      "metadata": {
        "id": "JLkWLC8f3HZI"
      }
    },
    {
      "cell_type": "markdown",
      "source": [
        "\n",
        "\n",
        "The images are 28x28 NumPy arrays, with pixel values ranging between 0 and 255. The *labels* are an array of numbers ranging from '0' to '9'. These correspond to the *class* of hand sign digit the image represents:\n",
        "\n",
        "<table>\n",
        "  <tr>\n",
        "    <th>Label</th>\n",
        "    <th>Class</th>\n",
        "  </tr>\n",
        "  <tr>\n",
        "    <td>0</td>\n",
        "    <td>Hand Sign Zero</td>\n",
        "  </tr>\n",
        "  <tr>\n",
        "    <td>1</td>\n",
        "    <td>Hand Sign One</td>\n",
        "  </tr>\n",
        "    <tr>\n",
        "    <td>2</td>\n",
        "    <td>Hand Sign Two</td>\n",
        "  </tr>\n",
        "    <tr>\n",
        "    <td>3</td>\n",
        "    <td>Hand Sign Three</td>\n",
        "  </tr>\n",
        "    <tr>\n",
        "    <td>4</td>\n",
        "    <td>Hand Sign Four</td>\n",
        "  </tr>\n",
        "    <tr>\n",
        "    <td>5</td>\n",
        "    <td>Hand Sign Five</td>\n",
        "  </tr>\n",
        "    <tr>\n",
        "    <td>6</td>\n",
        "    <td>Hand Sign Six</td>\n",
        "  </tr>\n",
        "    <tr>\n",
        "    <td>7</td>\n",
        "    <td>Hand Sign Seven</td>\n",
        "  </tr>\n",
        "    <tr>\n",
        "    <td>8</td>\n",
        "    <td>Hand Sign Eight</td>\n",
        "  </tr>\n",
        "    <tr>\n",
        "    <td>9</td>\n",
        "    <td>Hand Sign Nine</td>\n",
        "  </tr>\n",
        "</table>\n",
        "\n",
        "<br>\n",
        "\n",
        "# Goodluck!"
      ],
      "metadata": {
        "id": "WiRxNFCn3Vxd"
      }
    },
    {
      "cell_type": "markdown",
      "source": [
        "# Neural Network with PyTorch part 1 (Binary Classification)"
      ],
      "metadata": {
        "collapsed": false,
        "pycharm": {
          "name": "#%% md\n"
        },
        "id": "EU8d54pEU8GF"
      }
    },
    {
      "cell_type": "markdown",
      "source": [
        "## Import Libraries"
      ],
      "metadata": {
        "id": "UPCSaccR32De"
      }
    },
    {
      "cell_type": "code",
      "execution_count": 1,
      "outputs": [],
      "source": [
        "import torch\n",
        "import matplotlib.pyplot as plt\n",
        "from sklearn.model_selection import train_test_split\n",
        "import numpy as np"
      ],
      "metadata": {
        "pycharm": {
          "name": "#%%\n"
        },
        "id": "RyvoZdAXU8GG"
      }
    },
    {
      "cell_type": "markdown",
      "source": [
        "## Dwonload Dataset"
      ],
      "metadata": {
        "id": "Q1WPjPPR6Wpr"
      }
    },
    {
      "cell_type": "code",
      "source": [
        "%%capture\n",
        "!pip install ipython-autotime\n",
        "!pip install -U --no-cache-dir gdown --pre\n",
        "!gdown --id 1-0fhqH8tXKPb60C_b4aUHT7f-J4O6Ezq\n",
        "%load_ext autotime"
      ],
      "metadata": {
        "id": "qYIWd939wMK8",
        "colab": {
          "base_uri": "https://localhost:8080/"
        },
        "outputId": "c8243d4c-171c-47f8-e855-2d34ec4fc400"
      },
      "execution_count": 2,
      "outputs": [
        {
          "output_type": "stream",
          "name": "stdout",
          "text": [
            "time: 482 µs (started: 2025-01-22 12:50:39 +00:00)\n"
          ]
        }
      ]
    },
    {
      "cell_type": "markdown",
      "source": [
        "Loading the dataset as NumPy arrays:\n",
        "\n",
        "* The `dataset` file is a NumPy array containing the image pixles. As you can see, it includes 5,000 rows for each image and 784 columns for each pixel in the image (28x28).\n",
        "* The `labels` file is a NumPy array containing the images labels. As you can see, it includes 5,000 rows for each image corresponding to the dataset."
      ],
      "metadata": {
        "id": "nH0FZfKXwN4X"
      }
    },
    {
      "cell_type": "code",
      "source": [
        "loaded_data = np.load('/content/dataset_labels.npz')\n",
        "X, y = loaded_data['dataset'], loaded_data['labels']\n",
        "print(f'Dataset shape: {X.shape}\\nLabels shape: {y.shape}')"
      ],
      "metadata": {
        "colab": {
          "base_uri": "https://localhost:8080/"
        },
        "id": "UCcGPAXvwX5j",
        "outputId": "8aa7efb7-9704-4196-e9a9-66df9bb018d3"
      },
      "execution_count": 3,
      "outputs": [
        {
          "output_type": "stream",
          "name": "stdout",
          "text": [
            "Dataset shape: (5000, 784)\n",
            "Labels shape: (5000,)\n",
            "time: 46.8 ms (started: 2025-01-22 12:50:42 +00:00)\n"
          ]
        }
      ]
    },
    {
      "cell_type": "markdown",
      "source": [
        "The code displays the 1000th image from the dataset, reshaped to 28x28 pixels, using `matplotlib`."
      ],
      "metadata": {
        "id": "7iwo4wHzRS8G"
      }
    },
    {
      "cell_type": "code",
      "source": [
        "plt.figure(figsize=(3, 3))\n",
        "plt.imshow(X[1000].reshape(28,28))\n",
        "plt.show()"
      ],
      "metadata": {
        "colab": {
          "base_uri": "https://localhost:8080/",
          "height": 310
        },
        "id": "QKBgm5ExxFik",
        "outputId": "b05966b9-3c5b-464f-8338-fd5b52d93d85"
      },
      "execution_count": 4,
      "outputs": [
        {
          "output_type": "display_data",
          "data": {
            "text/plain": [
              "<Figure size 300x300 with 1 Axes>"
            ],
            "image/png": "[encoded data removed]"
          },
          "metadata": {}
        },
        {
          "output_type": "stream",
          "name": "stdout",
          "text": [
            "time: 366 ms (started: 2025-01-22 12:50:44 +00:00)\n"
          ]
        }
      ]
    },
    {
      "cell_type": "markdown",
      "source": [
        "## Data preprocessing\n",
        "There is no obligation to use the \"hints\" I left here for the benefit of the pre-processing stage. If you have another way that is more convenient for this step, then you are welcome to use it."
      ],
      "metadata": {
        "collapsed": false,
        "pycharm": {
          "name": "#%% md\n"
        },
        "id": "6Sm0udbSU8GG"
      }
    },
    {
      "cell_type": "markdown",
      "source": [
        "### Feature scaling"
      ],
      "metadata": {
        "collapsed": false,
        "pycharm": {
          "name": "#%% md\n"
        },
        "id": "ZZAUfLmVU8GH"
      }
    },
    {
      "cell_type": "markdown",
      "source": [],
      "metadata": {
        "id": "OZeY8F0DO6Es"
      }
    },
    {
      "cell_type": "markdown",
      "source": [
        "If this is to normalize the features (characteristics) to the range [0, 1] so that it can be better learned to be influenced by high values."
      ],
      "metadata": {
        "id": "bdETiD-dPNDH"
      }
    },
    {
      "cell_type": "code",
      "execution_count": 5,
      "outputs": [
        {
          "output_type": "stream",
          "name": "stdout",
          "text": [
            "(784, 5000)\n",
            "time: 32.8 ms (started: 2025-01-22 12:50:46 +00:00)\n"
          ]
        }
      ],
      "source": [
        "examples = y.shape[0]\n",
        "y1 = y.reshape(1, examples)\n",
        "X1 = X / 255\n",
        "X1 = X1.T\n",
        "print(X1.shape)"
      ],
      "metadata": {
        "pycharm": {
          "name": "#%%\n"
        },
        "id": "hzqQphx7U8GH",
        "outputId": "6c2a077e-8b54-404c-8b90-1409dabd797a",
        "colab": {
          "base_uri": "https://localhost:8080/"
        }
      }
    },
    {
      "cell_type": "markdown",
      "source": [
        "### Select two classes"
      ],
      "metadata": {
        "id": "YSzvJ196GkvO"
      }
    },
    {
      "cell_type": "markdown",
      "source": [
        "This code filters the dataset to select two classes (`4` and `5`) for a binary classification task. It uses `np.isin` to extract relevant images (`X_selected`) and converts labels to binary format (`y_binary`) with `np.where`, assigning `1` to class `5` and `0` to class `4`. The shapes of the filtered data and labels are printed for validation."
      ],
      "metadata": {
        "id": "zJMmqii_Vxzq"
      }
    },
    {
      "cell_type": "code",
      "source": [
        "unique, counts = np.unique(y, return_counts=True)\n",
        "class_counts = dict(zip(unique, counts))\n",
        "print(\"Class counts:\", class_counts)\n",
        "\n",
        "selected_classes = [4, 5]\n",
        "mask = np.isin(y.astype(int), selected_classes)\n",
        "X_selected = X1[:, mask]\n",
        "y_selected = y[mask].astype(int)\n",
        "y_binary = np.where(y_selected == selected_classes[1], 1, 0)\n",
        "\n",
        "print(f\"Selected classes shape: {X_selected.shape}\")\n",
        "print(f\"Binary labels shape: {y_binary.shape}\")\n"
      ],
      "metadata": {
        "id": "yjpHGlrmGlbe",
        "outputId": "36e7834c-fd39-4da7-98b7-f9cd604e599e",
        "colab": {
          "base_uri": "https://localhost:8080/"
        }
      },
      "execution_count": 6,
      "outputs": [
        {
          "output_type": "stream",
          "name": "stdout",
          "text": [
            "Class counts: {'0': 500, '1': 500, '2': 500, '3': 500, '4': 500, '5': 500, '6': 500, '7': 500, '8': 500, '9': 500}\n",
            "Selected classes shape: (784, 1000)\n",
            "Binary labels shape: (1000,)\n",
            "time: 23.7 ms (started: 2025-01-22 12:50:48 +00:00)\n"
          ]
        }
      ]
    },
    {
      "cell_type": "markdown",
      "source": [
        "Use Pytorch data tools to preprocessed the row data<br>\n",
        "Read about pytorch data tools here: https://pytorch.org/docs/stable/data.html"
      ],
      "metadata": {
        "collapsed": false,
        "pycharm": {
          "name": "#%% md\n"
        },
        "id": "FlCtN7Y-U8GH"
      }
    },
    {
      "cell_type": "markdown",
      "source": [
        "\n",
        "This code defines a custom PyTorch Dataset class (CustomHandSignDataset) to handle hand sign data for binary classification. The dataset class initializes the features and labels as tensors, applies PyTorch-specific formatting, and enables indexed access through the __getitem__ method. A DataLoader with random sampling is then created to efficiently manage batches of size 32. The code verifies the DataLoader by printing the shape of the first batch to ensure correct data preprocessing and batching. This structure prepares the data for training a neural network."
      ],
      "metadata": {
        "id": "D4T9kH0cYz-Z"
      }
    },
    {
      "cell_type": "code",
      "execution_count": 7,
      "outputs": [
        {
          "output_type": "stream",
          "name": "stdout",
          "text": [
            "Batch 1:\n",
            "Features shape: torch.Size([32, 784]), Labels shape: torch.Size([32])\n",
            "time: 13.1 ms (started: 2025-01-22 12:50:50 +00:00)\n"
          ]
        }
      ],
      "source": [
        "from torch.utils.data import Dataset, DataLoader, RandomSampler\n",
        "\n",
        "\n",
        "class CustomHandSignDataset(Dataset):\n",
        "    def __init__(self, features, labels):\n",
        "        self.features = torch.tensor(features, dtype=torch.float32).T\n",
        "        self.labels = torch.tensor(labels, dtype=torch.long)\n",
        "\n",
        "    def __len__(self):\n",
        "        return len(self.labels)\n",
        "\n",
        "    def __getitem__(self, idx):\n",
        "        return self.features[idx], self.labels[idx]\n",
        "\n",
        "\n",
        "dataset = CustomHandSignDataset(X_selected, y_binary)\n",
        "\n",
        "\n",
        "batch_size = 32\n",
        "sampler = RandomSampler(dataset)\n",
        "dataloader = DataLoader(dataset, batch_size=batch_size, sampler=sampler)\n",
        "\n",
        "\n",
        "for batch_idx, (X_batch, y_batch) in enumerate(dataloader):\n",
        "    print(f\"Batch {batch_idx + 1}:\")\n",
        "    print(f\"Features shape: {X_batch.shape}, Labels shape: {y_batch.shape}\")\n",
        "    break\n"
      ],
      "metadata": {
        "pycharm": {
          "name": "#%%\n"
        },
        "id": "PrJ6v0ACU8GI",
        "outputId": "2981188e-a40e-4afb-dccb-a8c8b73bc31f",
        "colab": {
          "base_uri": "https://localhost:8080/"
        }
      }
    },
    {
      "cell_type": "markdown",
      "source": [
        "### Build the network layers\n",
        "Read about Fully connected layers in pytorch here: https://pytorch.org/tutorials/beginner/basics/buildmodel_tutorial.html"
      ],
      "metadata": {
        "collapsed": false,
        "pycharm": {
          "name": "#%% md\n"
        },
        "id": "jwIzE9kSU8GI"
      }
    },
    {
      "cell_type": "markdown",
      "source": [
        "This code defines a fully connected neural network for binary classification using PyTorch. The network has three layers:\n",
        "\n",
        "Input Layer (fc1): Maps 784 input features (28x28 pixels) to 128 nodes.\n",
        "Hidden Layer (fc2): Reduces 128 nodes to 64.\n",
        "Output Layer (fc3): Outputs a single value for binary classification (0 or 1).\n",
        "The forward method applies ReLU activation to the first two layers and Sigmoid activation to the output layer. This structure prepares the network for training and ensures compatibility with binary classification tasks."
      ],
      "metadata": {
        "id": "fW4W6uHHZ72j"
      }
    },
    {
      "cell_type": "code",
      "source": [
        "from torch import nn\n",
        "import torch.nn.functional as F\n",
        "\n",
        "class NeuralNetwork(nn.Module):\n",
        "    def __init__(self):\n",
        "        super(NeuralNetwork, self).__init__()\n",
        "        self.fc1 = nn.Linear(784, 128)\n",
        "        self.fc2 = nn.Linear(128, 64)\n",
        "        self.fc3 = nn.Linear(64, 1)\n",
        "\n",
        "    def forward(self, x):\n",
        "        x = F.relu(self.fc1(x))\n",
        "        x = F.relu(self.fc2(x))\n",
        "        x = torch.sigmoid(self.fc3(x))\n",
        "        return x\n",
        "\n"
      ],
      "metadata": {
        "pycharm": {
          "name": "#%%\n",
          "is_executing": true
        },
        "id": "U3IepEv6U8GI",
        "outputId": "20cf8bd4-2833-418a-a359-bdc4174ba368",
        "colab": {
          "base_uri": "https://localhost:8080/"
        }
      },
      "execution_count": 8,
      "outputs": [
        {
          "output_type": "stream",
          "name": "stdout",
          "text": [
            "time: 12.8 ms (started: 2025-01-22 12:50:53 +00:00)\n"
          ]
        }
      ]
    },
    {
      "cell_type": "markdown",
      "source": [
        "This code determines the hardware device (CPU or GPU) to use for training or inference based on availability. The NeuralNetwork model is instantiated and moved to the selected device using .to(device). The model architecture is then printed, showing the details of each layer, including input and output features, and bias settings. This ensures that the model is ready for computation on the optimal hardware."
      ],
      "metadata": {
        "id": "vErXXrqpdDzW"
      }
    },
    {
      "cell_type": "code",
      "source": [
        "device = torch.device(\"cuda\" if torch.cuda.is_available() else \"cpu\")\n",
        "\n",
        "model = NeuralNetwork().to(device)\n",
        "\n",
        "print(model)\n"
      ],
      "metadata": {
        "id": "vHnOoE6QeJdX",
        "outputId": "a2d71b2d-529b-41fa-ced5-6f64b41a5f47",
        "colab": {
          "base_uri": "https://localhost:8080/"
        }
      },
      "execution_count": 9,
      "outputs": [
        {
          "output_type": "stream",
          "name": "stdout",
          "text": [
            "NeuralNetwork(\n",
            "  (fc1): Linear(in_features=784, out_features=128, bias=True)\n",
            "  (fc2): Linear(in_features=128, out_features=64, bias=True)\n",
            "  (fc3): Linear(in_features=64, out_features=1, bias=True)\n",
            ")\n",
            "time: 439 ms (started: 2025-01-22 12:50:55 +00:00)\n"
          ]
        }
      ]
    },
    {
      "cell_type": "markdown",
      "source": [
        "### Build the Optimizer\n",
        "Read about the Optimizer here: https://pytorch.org/docs/stable/optim.html"
      ],
      "metadata": {
        "collapsed": false,
        "pycharm": {
          "name": "#%% md\n"
        },
        "id": "VH6cuNVOU8GJ"
      }
    },
    {
      "cell_type": "markdown",
      "source": [
        "This code sets up the Adam optimizer to adjust the model's parameters during training. A learning rate of 0.0001 is defined to control the step size for updates. The model.parameters() method ensures the optimizer is linked to the model's weights. The configuration is printed to validate the optimizer's details."
      ],
      "metadata": {
        "id": "7IXAbGmMdXM5"
      }
    },
    {
      "cell_type": "code",
      "execution_count": 10,
      "outputs": [
        {
          "output_type": "stream",
          "name": "stdout",
          "text": [
            "Adam (\n",
            "Parameter Group 0\n",
            "    amsgrad: False\n",
            "    betas: (0.9, 0.999)\n",
            "    capturable: False\n",
            "    differentiable: False\n",
            "    eps: 1e-08\n",
            "    foreach: None\n",
            "    fused: None\n",
            "    lr: 0.0001\n",
            "    maximize: False\n",
            "    weight_decay: 0\n",
            ")\n",
            "time: 2.67 s (started: 2025-01-22 12:50:57 +00:00)\n"
          ]
        }
      ],
      "source": [
        "from torch import optim\n",
        "\n",
        "learning_rate = 0.0001\n",
        "optimizer = optim.Adam(model.parameters(), lr=learning_rate)\n",
        "\n",
        "print(optimizer)\n"
      ],
      "metadata": {
        "pycharm": {
          "name": "#%%\n"
        },
        "id": "2Xndbe19U8GJ",
        "outputId": "7cac41d3-7107-47d7-aeb7-d263c4ce4e74",
        "colab": {
          "base_uri": "https://localhost:8080/"
        }
      }
    },
    {
      "cell_type": "markdown",
      "source": [
        "### Loss Function\n",
        "Read about Loss here: https://pytorch.org/docs/stable/optim.html"
      ],
      "metadata": {
        "id": "4s2veabTeUpD"
      }
    },
    {
      "cell_type": "markdown",
      "source": [
        "This code defines the Binary Cross Entropy Loss (BCELoss), which is well-suited for binary classification tasks. It computes the difference between the predicted probabilities and the actual binary labels to measure how well the model's predictions align with the true labels."
      ],
      "metadata": {
        "id": "KC4iNqTad_NA"
      }
    },
    {
      "cell_type": "code",
      "source": [
        "import torch.nn as nn\n",
        "\n",
        "loss = nn.BCELoss()\n",
        "print(loss)\n"
      ],
      "metadata": {
        "id": "5G3Dx5vueVG9",
        "outputId": "ff6c199b-b415-44ae-a329-2176425056bb",
        "colab": {
          "base_uri": "https://localhost:8080/"
        }
      },
      "execution_count": 11,
      "outputs": [
        {
          "output_type": "stream",
          "name": "stdout",
          "text": [
            "BCELoss()\n",
            "time: 568 µs (started: 2025-01-22 12:51:00 +00:00)\n"
          ]
        }
      ]
    },
    {
      "cell_type": "markdown",
      "source": [
        "### Training\n",
        "Train your model, Don't forget to store the \"loss\" and \"Accuracy\" while training, you will have to show them later.<br>\n",
        "Read about Loss here: https://pytorch.org/tutorials/beginner/introyt/trainingyt.html"
      ],
      "metadata": {
        "collapsed": false,
        "pycharm": {
          "name": "#%% md\n"
        },
        "id": "c7kXhHkoU8GJ"
      }
    },
    {
      "cell_type": "markdown",
      "source": [
        "This code implements the training process for the neural network over 20 epochs. For each epoch, it computes the loss for each batch, updates the weights using the Adam optimizer, and tracks the accuracy by comparing the model's predictions with the true labels. The total loss and accuracy for each epoch are stored in eval_losses and eval_accu for further evaluation. The training ensures efficient weight updates and prepares the model for binary classification tasks."
      ],
      "metadata": {
        "id": "lVt6PbDufsq3"
      }
    },
    {
      "cell_type": "code",
      "execution_count": 12,
      "outputs": [
        {
          "output_type": "stream",
          "name": "stdout",
          "text": [
            "Epoch 1/20, Loss: 0.6700, Accuracy: 0.8710\n",
            "Epoch 2/20, Loss: 0.6105, Accuracy: 0.9630\n",
            "Epoch 3/20, Loss: 0.5034, Accuracy: 0.9620\n",
            "Epoch 4/20, Loss: 0.3658, Accuracy: 0.9680\n",
            "Epoch 5/20, Loss: 0.2504, Accuracy: 0.9690\n",
            "Epoch 6/20, Loss: 0.1795, Accuracy: 0.9730\n",
            "Epoch 7/20, Loss: 0.1309, Accuracy: 0.9780\n",
            "Epoch 8/20, Loss: 0.1036, Accuracy: 0.9810\n",
            "Epoch 9/20, Loss: 0.0863, Accuracy: 0.9800\n",
            "Epoch 10/20, Loss: 0.0755, Accuracy: 0.9810\n",
            "Epoch 11/20, Loss: 0.0664, Accuracy: 0.9820\n",
            "Epoch 12/20, Loss: 0.0596, Accuracy: 0.9820\n",
            "Epoch 13/20, Loss: 0.0557, Accuracy: 0.9830\n",
            "Epoch 14/20, Loss: 0.0495, Accuracy: 0.9830\n",
            "Epoch 15/20, Loss: 0.0459, Accuracy: 0.9840\n",
            "Epoch 16/20, Loss: 0.0446, Accuracy: 0.9830\n",
            "Epoch 17/20, Loss: 0.0392, Accuracy: 0.9860\n",
            "Epoch 18/20, Loss: 0.0353, Accuracy: 0.9860\n",
            "Epoch 19/20, Loss: 0.0332, Accuracy: 0.9870\n",
            "Epoch 20/20, Loss: 0.0305, Accuracy: 0.9880\n",
            "time: 2.86 s (started: 2025-01-22 12:51:03 +00:00)\n"
          ]
        }
      ],
      "source": [
        "number_of_epochs = 20\n",
        "\n",
        "eval_losses = []\n",
        "eval_accu = []\n",
        "\n",
        "\n",
        "for epoch in range(number_of_epochs):\n",
        "    model.train()\n",
        "    running_loss = 0.0\n",
        "    correct_predictions = 0\n",
        "    total_predictions = 0\n",
        "\n",
        "    for X_batch, y_batch in dataloader:\n",
        "        X_batch, y_batch = X_batch.to(device), y_batch.to(device)\n",
        "\n",
        "        predictions = model(X_batch).squeeze()\n",
        "\n",
        "        batch_loss = loss(predictions, y_batch.float())\n",
        "\n",
        "        optimizer.zero_grad()\n",
        "        batch_loss.backward()\n",
        "        optimizer.step()\n",
        "\n",
        "        running_loss += batch_loss.item()\n",
        "        predicted_labels = (predictions > 0.5).int()\n",
        "        correct_predictions += (predicted_labels == y_batch).sum().item()\n",
        "        total_predictions += y_batch.size(0)\n",
        "\n",
        "    epoch_loss = running_loss / len(dataloader)\n",
        "    epoch_accuracy = correct_predictions / total_predictions\n",
        "\n",
        "    eval_losses.append(epoch_loss)\n",
        "    eval_accu.append(epoch_accuracy)\n",
        "\n",
        "\n",
        "    print(f\"Epoch {epoch + 1}/{number_of_epochs}, Loss: {epoch_loss:.4f}, Accuracy: {epoch_accuracy:.4f}\")\n"
      ],
      "metadata": {
        "pycharm": {
          "name": "#%%\n"
        },
        "id": "Sq1KOMEeU8GJ",
        "outputId": "85176b72-71e3-46c6-ed90-d8498b0dcfd5",
        "colab": {
          "base_uri": "https://localhost:8080/"
        }
      }
    },
    {
      "cell_type": "markdown",
      "source": [
        "### Loss and Accuracy Visualization\n",
        "Show  on plot the lose during training"
      ],
      "metadata": {
        "collapsed": false,
        "pycharm": {
          "name": "#%% md\n"
        },
        "id": "bkNYD1oRU8GK"
      }
    },
    {
      "cell_type": "markdown",
      "source": [
        "This code visualizes the training process by plotting two graphs:\n",
        "\n",
        "Training Loss Over Epochs: Shows the decrease in loss as the model learns during training.\n",
        "Training Accuracy Over Epochs: Illustrates the improvement in accuracy across epochs.\n",
        "The graphs use the matplotlib library, with proper labels, titles, and legends to enhance clarity.  "
      ],
      "metadata": {
        "id": "-VPAn9ktgFu2"
      }
    },
    {
      "cell_type": "code",
      "execution_count": 13,
      "outputs": [
        {
          "output_type": "display_data",
          "data": {
            "text/plain": [
              "<Figure size 1000x500 with 1 Axes>"
            ],
            "image/png": "[encoded data removed]"
          },
          "metadata": {}
        },
        {
          "output_type": "stream",
          "name": "stdout",
          "text": [
            "time: 190 ms (started: 2025-01-22 12:51:08 +00:00)\n"
          ]
        }
      ],
      "source": [
        "\n",
        "plt.figure(figsize=(10, 5))\n",
        "plt.plot(eval_losses, label='Training Loss')\n",
        "plt.xlabel('Epoch')\n",
        "plt.ylabel('Loss')\n",
        "plt.title('Training Loss Over Epochs')\n",
        "plt.legend()\n",
        "plt.grid()\n",
        "plt.show()\n"
      ],
      "metadata": {
        "pycharm": {
          "name": "#%%\n"
        },
        "id": "iM8si3EBU8GK",
        "outputId": "b7200bc6-3308-49ab-8fff-d2f6073cd529",
        "colab": {
          "base_uri": "https://localhost:8080/",
          "height": 504
        }
      }
    },
    {
      "cell_type": "markdown",
      "source": [
        "Show  on plot the accuracy during training"
      ],
      "metadata": {
        "collapsed": false,
        "pycharm": {
          "name": "#%% md\n"
        },
        "id": "w4JBO5zuU8GK"
      }
    },
    {
      "cell_type": "code",
      "execution_count": 14,
      "outputs": [
        {
          "output_type": "display_data",
          "data": {
            "text/plain": [
              "<Figure size 1000x500 with 1 Axes>"
            ],
            "image/png": "[encoded data removed]"
          },
          "metadata": {}
        },
        {
          "output_type": "stream",
          "name": "stdout",
          "text": [
            "time: 171 ms (started: 2025-01-22 12:51:12 +00:00)\n"
          ]
        }
      ],
      "source": [
        "plt.figure(figsize=(10, 5))\n",
        "plt.plot(eval_accu, label='Training Accuracy', color='green')\n",
        "plt.xlabel('Epoch')\n",
        "plt.ylabel('Accuracy')\n",
        "plt.title('Training Accuracy Over Epochs')\n",
        "plt.legend()\n",
        "plt.grid()\n",
        "plt.show()\n"
      ],
      "metadata": {
        "pycharm": {
          "name": "#%%\n"
        },
        "id": "hOCsxuuTU8GK",
        "colab": {
          "base_uri": "https://localhost:8080/",
          "height": 504
        },
        "outputId": "bc62b477-e499-4d84-c85a-dfd12682199f"
      }
    },
    {
      "cell_type": "markdown",
      "source": [
        "### Test\n",
        "Test your model (Show accuracy by comparing the prediction VS the test label)"
      ],
      "metadata": {
        "collapsed": false,
        "pycharm": {
          "name": "#%% md\n"
        },
        "id": "SAUlD1ypU8GL"
      }
    },
    {
      "cell_type": "markdown",
      "source": [
        "This code tests the trained model using the test dataset. It splits the data into training and testing sets using train_test_split, converts the test set to PyTorch tensors, and moves them to the selected device (CPU/GPU). The model is evaluated in eval() mode, and predictions are generated using the test data. The binary predictions are computed using a threshold of 0.5. Finally, the test accuracy is calculated using accuracy_score from sklearn and printed for review."
      ],
      "metadata": {
        "id": "JXn_c3L3i0a_"
      }
    },
    {
      "cell_type": "code",
      "execution_count": 15,
      "outputs": [
        {
          "output_type": "stream",
          "name": "stdout",
          "text": [
            "Training data shape: (800, 784), Training labels shape: (800,)\n",
            "Test data shape: (200, 784), Test labels shape: (200,)\n",
            "Test Accuracy: 0.9850\n",
            "time: 95.3 ms (started: 2025-01-22 12:51:15 +00:00)\n"
          ]
        }
      ],
      "source": [
        "from sklearn.metrics import accuracy_score, confusion_matrix\n",
        "import seaborn as sns\n",
        "\n",
        "X_train, X_test, y_train, y_test = train_test_split(X_selected.T, y_binary, test_size=0.2, random_state=42)\n",
        "\n",
        "print(f\"Training data shape: {X_train.shape}, Training labels shape: {y_train.shape}\")\n",
        "print(f\"Test data shape: {X_test.shape}, Test labels shape: {y_test.shape}\")\n",
        "\n",
        "X_test_tensor = torch.tensor(X_test, dtype=torch.float32).to(device)\n",
        "y_test_tensor = torch.tensor(y_test, dtype=torch.float32).to(device)\n",
        "\n",
        "model.eval()\n",
        "\n",
        "with torch.no_grad():\n",
        "    y_pred = model(X_test_tensor).squeeze()\n",
        "\n",
        "    y_pred_binary = (y_pred > 0.5).int()\n",
        "\n",
        "    test_accuracy = accuracy_score(y_test_tensor.cpu(), y_pred_binary.cpu())\n",
        "    print(f\"Test Accuracy: {test_accuracy:.4f}\")"
      ],
      "metadata": {
        "pycharm": {
          "name": "#%%\n"
        },
        "id": "rukB7UefU8GL",
        "colab": {
          "base_uri": "https://localhost:8080/"
        },
        "outputId": "d97ccede-f839-4a47-f561-f71e1f4398b5"
      }
    },
    {
      "cell_type": "markdown",
      "source": [
        "### Model Evaluation\n",
        "Show the model evaluation by presenting the confusion metrix in a representative way<br>\n",
        "Read about confusion metrix visualization here: https://scikit-learn.org/stable/auto_examples/model_selection/plot_confusion_matrix.html"
      ],
      "metadata": {
        "collapsed": false,
        "pycharm": {
          "name": "#%% md\n"
        },
        "id": "ClevveJ3U8GL"
      }
    },
    {
      "cell_type": "markdown",
      "source": [
        "\n",
        "This code evaluates the model's performance using a confusion matrix. The matrix is calculated with confusion_matrix from sklearn, comparing the true labels with the predicted labels. It is visualized as a heatmap using seaborn, with clear labels for \"True Labels\" and \"Predicted Labels.\" The confusion matrix provides insights into the model's performance, showing the number of correct and incorrect predictions for each class."
      ],
      "metadata": {
        "id": "W-h0rlD1jb5C"
      }
    },
    {
      "cell_type": "code",
      "execution_count": 16,
      "outputs": [
        {
          "output_type": "stream",
          "name": "stdout",
          "text": [
            "Confusion Matrix:\n",
            "[[ 95   1]\n",
            " [  2 102]]\n"
          ]
        },
        {
          "output_type": "display_data",
          "data": {
            "text/plain": [
              "<Figure size 600x400 with 2 Axes>"
            ],
            "image/png": "[encoded data removed]"
          },
          "metadata": {}
        },
        {
          "output_type": "stream",
          "name": "stdout",
          "text": [
            "time: 342 ms (started: 2025-01-22 12:51:17 +00:00)\n"
          ]
        }
      ],
      "source": [
        "from sklearn.metrics import confusion_matrix, ConfusionMatrixDisplay\n",
        "import itertools\n",
        "\n",
        "confusion = confusion_matrix(y_test_tensor.cpu(), y_pred_binary.cpu())\n",
        "print(\"Confusion Matrix:\")\n",
        "print(confusion)\n",
        "\n",
        "plt.figure(figsize=(6, 4))\n",
        "sns.heatmap(confusion, annot=True, fmt=\"d\", cmap=\"Blues\", xticklabels=[\"Class 0\", \"Class 1\"], yticklabels=[\"Class 0\", \"Class 1\"])\n",
        "plt.xlabel(\"Predicted Labels\")\n",
        "plt.ylabel(\"True Labels\")\n",
        "plt.title(\"Confusion Matrix\")\n",
        "plt.show()\n",
        "\n"
      ],
      "metadata": {
        "pycharm": {
          "name": "#%%\n"
        },
        "id": "KHQVaRZKU8GL",
        "colab": {
          "base_uri": "https://localhost:8080/",
          "height": 479
        },
        "outputId": "df6c0198-363b-4e21-8f1f-079beb7c43af"
      }
    },
    {
      "cell_type": "markdown",
      "source": [
        "---\n",
        "<br>\n",
        "\n",
        "\n",
        "# Neural Network with PyTorch part 2 (Multiclass Classification)"
      ],
      "metadata": {
        "id": "s6_ug9JLjmM8"
      }
    },
    {
      "cell_type": "markdown",
      "source": [
        "## Import Libraries"
      ],
      "metadata": {
        "id": "Dn9kBnoOkJ7B"
      }
    },
    {
      "cell_type": "code",
      "source": [
        "%%capture\n",
        "!pip install ipython-autotime\n",
        "import torch\n",
        "from sklearn.model_selection import train_test_split\n",
        "import matplotlib.pyplot as plt\n",
        "import numpy as np\n",
        "%load_ext autotime"
      ],
      "metadata": {
        "id": "0L5QXTC5kK9F",
        "colab": {
          "base_uri": "https://localhost:8080/"
        },
        "outputId": "da86a2ed-0c43-4478-9934-05b194481876"
      },
      "execution_count": 17,
      "outputs": [
        {
          "output_type": "stream",
          "name": "stdout",
          "text": [
            "time: 1.91 s (started: 2025-01-22 12:51:20 +00:00)\n"
          ]
        }
      ]
    },
    {
      "cell_type": "markdown",
      "source": [
        "## Load Dataset"
      ],
      "metadata": {
        "id": "pcLzuIa3kOQ_"
      }
    },
    {
      "cell_type": "code",
      "source": [
        "loaded_data = np.load('/content/dataset_labels.npz')\n",
        "X, y = loaded_data['dataset'], loaded_data['labels']\n",
        "print(f'Dataset shape: {X.shape}\\nLabels shape: {y.shape}')"
      ],
      "metadata": {
        "colab": {
          "base_uri": "https://localhost:8080/"
        },
        "id": "B0z91q_6kUPh",
        "outputId": "ecd9662f-c4a4-4862-bf8c-71c378dc4949"
      },
      "execution_count": 18,
      "outputs": [
        {
          "output_type": "stream",
          "name": "stdout",
          "text": [
            "Dataset shape: (5000, 784)\n",
            "Labels shape: (5000,)\n",
            "time: 45.9 ms (started: 2025-01-22 12:51:23 +00:00)\n"
          ]
        }
      ]
    },
    {
      "cell_type": "markdown",
      "source": [
        "### The rest you will have to create yourself..."
      ],
      "metadata": {
        "id": "Zcr6QaXFkmI4"
      }
    },
    {
      "cell_type": "markdown",
      "source": [
        "## Models"
      ],
      "metadata": {
        "id": "xMTvB9TolhcG"
      }
    },
    {
      "cell_type": "markdown",
      "source": [
        "### Base Model"
      ],
      "metadata": {
        "id": "rOqJ_9CGk3h9"
      }
    },
    {
      "cell_type": "markdown",
      "source": [
        "This code defines a basic neural network (Base Model) for multiclass classification, serving as a foundational architecture for further experimentation and improvements. The model consists of three fully connected layers.\n",
        "\n",
        "The Base Model serves as the initial step in building a neural network for multiclass classification. It uses three fully connected layers with ReLU activation functions for the first two layers. The model's simplicity allows us to establish a baseline for performance and serves as a reference point for future enhancements. Key parameters, such as the number of neurons in each layer and the overall structure, were selected to ensure a straightforward yet effective design. This enables us to evaluate the impact of modifications like adding complexity or tuning hyperparameters. The results and insights derived from the Base Model are critical for guiding improvements in subsequent experiments."
      ],
      "metadata": {
        "id": "ewNKL6qFkkvu"
      }
    },
    {
      "cell_type": "code",
      "source": [
        "\n",
        "class BaseModel(nn.Module):\n",
        "    def __init__(self):\n",
        "        super(BaseModel, self).__init__()\n",
        "\n",
        "        self.fc1 = nn.Linear(784, 128)\n",
        "        self.dropout1 = nn.Dropout(0.2)\n",
        "        self.fc2 = nn.Linear(128, 64)\n",
        "        self.dropout2 = nn.Dropout(0.2)\n",
        "        self.fc3 = nn.Linear(64, 10)\n",
        "\n",
        "    def forward(self, x):\n",
        "        x = nn.functional.relu(self.fc1(x))\n",
        "        x = self.dropout1(x)\n",
        "        x = nn.functional.relu(self.fc2(x))\n",
        "        x = self.dropout2(x)\n",
        "        x = self.fc3(x)\n",
        "        return nn.functional.log_softmax(x, dim=1)\n",
        "\n",
        "\n",
        "base_model = BaseModel()\n",
        "print(base_model)\n",
        "\n",
        "\n",
        "device = torch.device(\"cuda\" if torch.cuda.is_available() else \"cpu\")\n",
        "base_model = base_model.to(device)\n"
      ],
      "metadata": {
        "id": "1Aik_-D47X0r",
        "colab": {
          "base_uri": "https://localhost:8080/"
        },
        "outputId": "6f8b6e89-52d8-4360-9116-9d14aa06286e"
      },
      "execution_count": 20,
      "outputs": [
        {
          "output_type": "stream",
          "name": "stdout",
          "text": [
            "BaseModel(\n",
            "  (fc1): Linear(in_features=784, out_features=128, bias=True)\n",
            "  (dropout1): Dropout(p=0.2, inplace=False)\n",
            "  (fc2): Linear(in_features=128, out_features=64, bias=True)\n",
            "  (dropout2): Dropout(p=0.2, inplace=False)\n",
            "  (fc3): Linear(in_features=64, out_features=10, bias=True)\n",
            ")\n",
            "time: 8.82 ms (started: 2025-01-22 12:51:39 +00:00)\n"
          ]
        }
      ]
    },
    {
      "cell_type": "code",
      "source": [
        "from sklearn.metrics import confusion_matrix, accuracy_score\n",
        "import seaborn as sns\n",
        "import matplotlib.pyplot as plt\n",
        "\n",
        "X = X.astype(np.float32)\n",
        "y = y.astype(np.int64)\n",
        "\n",
        "X_train, X_test, y_train, y_test = train_test_split(X, y, test_size=0.2, random_state=42)\n",
        "\n",
        "X_train_tensor = torch.tensor(X_train, dtype=torch.float32).to(device)\n",
        "y_train_tensor = torch.tensor(y_train, dtype=torch.long).to(device)\n",
        "\n",
        "X_test_tensor = torch.tensor(X_test, dtype=torch.float32).to(device)\n",
        "y_test_tensor = torch.tensor(y_test, dtype=torch.long).to(device)\n",
        "\n",
        "optimizer = torch.optim.Adam(base_model.parameters(), lr=0.001)\n",
        "criterion = torch.nn.CrossEntropyLoss()\n",
        "\n",
        "num_epochs = 10\n",
        "\n",
        "for epoch in range(num_epochs):\n",
        "    base_model.train()\n",
        "    optimizer.zero_grad()\n",
        "    outputs = base_model(X_train_tensor)\n",
        "    loss = criterion(outputs, y_train_tensor)\n",
        "    loss.backward()\n",
        "    optimizer.step()\n",
        "    print(f\"Epoch {epoch+1}/{num_epochs}, Loss: {loss.item():.4f}\")\n",
        "\n",
        "base_model.eval()\n",
        "with torch.no_grad():\n",
        "    outputs = base_model(X_test_tensor)\n",
        "    predictions = torch.argmax(outputs, dim=1)\n",
        "\n",
        "y_test_np = y_test_tensor.cpu().numpy()\n",
        "predictions_np = predictions.cpu().numpy()\n",
        "\n",
        "conf_matrix = confusion_matrix(y_test_np, predictions_np)\n",
        "accuracy = accuracy_score(y_test_np, predictions_np)\n",
        "print(f\"Model Accuracy: {accuracy:.2f}\")\n",
        "\n",
        "plt.figure(figsize=(8, 6))\n",
        "sns.heatmap(conf_matrix, annot=True, fmt=\"d\", cmap=\"Blues\", xticklabels=np.unique(y_test_np), yticklabels=np.unique(y_test_np))\n",
        "plt.xlabel(\"Predicted\")\n",
        "plt.ylabel(\"True\")\n",
        "plt.title(f\"Confusion Matrix (Accuracy: {accuracy:.2f})\")\n",
        "plt.show()\n"
      ],
      "metadata": {
        "colab": {
          "base_uri": "https://localhost:8080/",
          "height": 772
        },
        "id": "KyrfNMXACOqf",
        "outputId": "d4f1a6db-0375-4b8f-ce9b-20ee52b97b12"
      },
      "execution_count": 23,
      "outputs": [
        {
          "output_type": "stream",
          "name": "stdout",
          "text": [
            "Epoch 1/10, Loss: 18.8578\n",
            "Epoch 2/10, Loss: 11.0951\n",
            "Epoch 3/10, Loss: 9.2678\n",
            "Epoch 4/10, Loss: 7.6695\n",
            "Epoch 5/10, Loss: 6.2041\n",
            "Epoch 6/10, Loss: 5.0479\n",
            "Epoch 7/10, Loss: 4.3003\n",
            "Epoch 8/10, Loss: 3.7187\n",
            "Epoch 9/10, Loss: 3.3522\n",
            "Epoch 10/10, Loss: 2.9963\n",
            "Model Accuracy: 0.45\n"
          ]
        },
        {
          "output_type": "display_data",
          "data": {
            "text/plain": [
              "<Figure size 800x600 with 2 Axes>"
            ],
            "image/png": "[encoded data removed]"
          },
          "metadata": {}
        },
        {
          "output_type": "stream",
          "name": "stdout",
          "text": [
            "time: 1.19 s (started: 2025-01-22 12:54:14 +00:00)\n"
          ]
        }
      ]
    },
    {
      "cell_type": "markdown",
      "source": [
        "### Experiment number 1"
      ],
      "metadata": {
        "id": "eKieQwhOlA3m"
      }
    },
    {
      "cell_type": "code",
      "source": [
        "loaded_data = np.load('/content/dataset_labels.npz')\n",
        "X, y = loaded_data['dataset'], loaded_data['labels']\n",
        "print(f\"Dataset shape: {X.shape}\\nLabels shape: {y.shape}\")\n"
      ],
      "metadata": {
        "colab": {
          "base_uri": "https://localhost:8080/"
        },
        "id": "grt0h00-79FA",
        "outputId": "f9c77f31-a75f-4037-92b9-627e6c569498"
      },
      "execution_count": 24,
      "outputs": [
        {
          "output_type": "stream",
          "name": "stdout",
          "text": [
            "Dataset shape: (5000, 784)\n",
            "Labels shape: (5000,)\n",
            "time: 45.6 ms (started: 2025-01-22 12:54:19 +00:00)\n"
          ]
        }
      ]
    },
    {
      "cell_type": "markdown",
      "source": [
        "This code splits the dataset into training and validation sets using an 80-20 split ratio. It then converts the training and validation data and labels into PyTorch tensors with the appropriate data types (`float32` for data and `long` for labels). Finally, it prints the shapes of the resulting tensors to confirm the successful splitting and conversion, ensuring the training set contains 4000 samples and the validation set contains 1000 samples."
      ],
      "metadata": {
        "id": "hYeW6KVqobzX"
      }
    },
    {
      "cell_type": "code",
      "source": [
        "y = y.astype(int)\n",
        "\n",
        "X_train, X_val, y_train, y_val = train_test_split(X, y, test_size=0.2, random_state=42)\n",
        "\n",
        "X_train_tensor = torch.tensor(X_train, dtype=torch.float32)\n",
        "y_train_tensor = torch.tensor(y_train, dtype=torch.long)\n",
        "X_val_tensor = torch.tensor(X_val, dtype=torch.float32)\n",
        "y_val_tensor = torch.tensor(y_val, dtype=torch.long)\n",
        "\n",
        "print(f\"Train data shape: {X_train_tensor.shape}, Train labels shape: {y_train_tensor.shape}\")\n",
        "print(f\"Validation data shape: {X_val_tensor.shape}, Validation labels shape: {y_val_tensor.shape}\")"
      ],
      "metadata": {
        "colab": {
          "base_uri": "https://localhost:8080/"
        },
        "id": "2NF3o4MoHm73",
        "outputId": "5cf1d812-58eb-4d77-d5ce-ecd5c9fdaa92"
      },
      "execution_count": 25,
      "outputs": [
        {
          "output_type": "stream",
          "name": "stdout",
          "text": [
            "Train data shape: torch.Size([4000, 784]), Train labels shape: torch.Size([4000])\n",
            "Validation data shape: torch.Size([1000, 784]), Validation labels shape: torch.Size([1000])\n",
            "time: 18 ms (started: 2025-01-22 12:54:22 +00:00)\n"
          ]
        }
      ]
    },
    {
      "cell_type": "markdown",
      "source": [
        "This code defines and trains `ExperimentModel1`, a neural network with four fully connected layers for multi-class classification. The model uses `CrossEntropyLoss` for calculating loss and the Adam optimizer with a learning rate of `0.001` for efficient weight updates. Key variables (`train_losses`, `val_losses`, `train_accuracies`, `val_accuracies`) track training and validation performance. The training loop performs forward and backward passes, updates weights, and evaluates validation accuracy. Metrics like `Train Loss`, `Val Loss`, `Train Acc`, and `Val Acc` provide insights into the model's learning and generalization over 50 epochs."
      ],
      "metadata": {
        "id": "Woag_J5apD-C"
      }
    },
    {
      "cell_type": "code",
      "source": [
        "\n",
        "class ExperimentModel1(nn.Module):\n",
        "    def __init__(self):\n",
        "        super(ExperimentModel1, self).__init__()\n",
        "        self.fc1 = nn.Linear(784, 512)\n",
        "        self.fc2 = nn.Linear(512, 256)\n",
        "        self.fc3 = nn.Linear(256, 128)\n",
        "        self.fc4 = nn.Linear(128, 10)\n",
        "\n",
        "    def forward(self, x):\n",
        "        x = nn.functional.relu(self.fc1(x))\n",
        "        x = nn.functional.relu(self.fc2(x))\n",
        "        x = nn.functional.relu(self.fc3(x))\n",
        "        x = self.fc4(x)\n",
        "        return x\n",
        "\n",
        "\n",
        "model = ExperimentModel1()\n",
        "print(model)\n",
        "\n",
        "criterion = nn.CrossEntropyLoss()\n",
        "optimizer = optim.Adam(model.parameters(), lr=0.001)\n",
        "\n",
        "num_epochs = 50\n",
        "train_losses, val_losses = [], []\n",
        "train_accuracies, val_accuracies = [], []\n",
        "\n",
        "for epoch in range(num_epochs):\n",
        "    model.train()\n",
        "    optimizer.zero_grad()\n",
        "\n",
        "    outputs = model(X_train_tensor)\n",
        "    loss = criterion(outputs, y_train_tensor)\n",
        "    train_losses.append(loss.item())\n",
        "\n",
        "    loss.backward()\n",
        "    optimizer.step()\n",
        "\n",
        "    _, predicted = torch.max(outputs, 1)\n",
        "    train_accuracy = accuracy_score(y_train_tensor.numpy(), predicted.detach().numpy())\n",
        "    train_accuracies.append(train_accuracy)\n",
        "\n",
        "    model.eval()\n",
        "    with torch.no_grad():\n",
        "        val_outputs = model(X_val_tensor)\n",
        "        val_loss = criterion(val_outputs, y_val_tensor)\n",
        "        val_losses.append(val_loss.item())\n",
        "\n",
        "        _, val_predicted = torch.max(val_outputs, 1)\n",
        "        val_accuracy = accuracy_score(y_val_tensor.numpy(), val_predicted.numpy())\n",
        "        val_accuracies.append(val_accuracy)\n",
        "\n",
        "    print(f\"Epoch [{epoch+1}/{num_epochs}], Train Loss: {loss.item():.4f}, Val Loss: {val_loss.item():.4f}, Train Acc: {train_accuracy:.4f}, Val Acc: {val_accuracy:.4f}\")\n"
      ],
      "metadata": {
        "colab": {
          "base_uri": "https://localhost:8080/"
        },
        "id": "GRL-PK3QIeK9",
        "outputId": "92be67e9-676c-4537-ca66-a3ba76a57d51"
      },
      "execution_count": 26,
      "outputs": [
        {
          "output_type": "stream",
          "name": "stdout",
          "text": [
            "ExperimentModel1(\n",
            "  (fc1): Linear(in_features=784, out_features=512, bias=True)\n",
            "  (fc2): Linear(in_features=512, out_features=256, bias=True)\n",
            "  (fc3): Linear(in_features=256, out_features=128, bias=True)\n",
            "  (fc4): Linear(in_features=128, out_features=10, bias=True)\n",
            ")\n",
            "Epoch [1/50], Train Loss: 4.7025, Val Loss: 10.3638, Train Acc: 0.1062, Val Acc: 0.1070\n",
            "Epoch [2/50], Train Loss: 10.2188, Val Loss: 7.0366, Train Acc: 0.0988, Val Acc: 0.1140\n",
            "Epoch [3/50], Train Loss: 6.7540, Val Loss: 4.5675, Train Acc: 0.1415, Val Acc: 0.1370\n",
            "Epoch [4/50], Train Loss: 4.5535, Val Loss: 3.3230, Train Acc: 0.1310, Val Acc: 0.2170\n",
            "Epoch [5/50], Train Loss: 3.3709, Val Loss: 3.3869, Train Acc: 0.2055, Val Acc: 0.2270\n",
            "Epoch [6/50], Train Loss: 3.3966, Val Loss: 3.0851, Train Acc: 0.2188, Val Acc: 0.2310\n",
            "Epoch [7/50], Train Loss: 3.0969, Val Loss: 2.4924, Train Acc: 0.2303, Val Acc: 0.2910\n",
            "Epoch [8/50], Train Loss: 2.4762, Val Loss: 2.1568, Train Acc: 0.2807, Val Acc: 0.2550\n",
            "Epoch [9/50], Train Loss: 2.1212, Val Loss: 2.0385, Train Acc: 0.2760, Val Acc: 0.2310\n",
            "Epoch [10/50], Train Loss: 2.0043, Val Loss: 1.7571, Train Acc: 0.2492, Val Acc: 0.3630\n",
            "Epoch [11/50], Train Loss: 1.7474, Val Loss: 1.7581, Train Acc: 0.3670, Val Acc: 0.3570\n",
            "Epoch [12/50], Train Loss: 1.7661, Val Loss: 1.6987, Train Acc: 0.3540, Val Acc: 0.4070\n",
            "Epoch [13/50], Train Loss: 1.6977, Val Loss: 1.4572, Train Acc: 0.4225, Val Acc: 0.5300\n",
            "Epoch [14/50], Train Loss: 1.4474, Val Loss: 1.3604, Train Acc: 0.5308, Val Acc: 0.5710\n",
            "Epoch [15/50], Train Loss: 1.3566, Val Loss: 1.3852, Train Acc: 0.5827, Val Acc: 0.5380\n",
            "Epoch [16/50], Train Loss: 1.3763, Val Loss: 1.2915, Train Acc: 0.5427, Val Acc: 0.5390\n",
            "Epoch [17/50], Train Loss: 1.2737, Val Loss: 1.1294, Train Acc: 0.5305, Val Acc: 0.6360\n",
            "Epoch [18/50], Train Loss: 1.1038, Val Loss: 1.0951, Train Acc: 0.6410, Val Acc: 0.6270\n",
            "Epoch [19/50], Train Loss: 1.0710, Val Loss: 1.0389, Train Acc: 0.6390, Val Acc: 0.6400\n",
            "Epoch [20/50], Train Loss: 1.0217, Val Loss: 0.9437, Train Acc: 0.6573, Val Acc: 0.6840\n",
            "Epoch [21/50], Train Loss: 0.9225, Val Loss: 0.8979, Train Acc: 0.6833, Val Acc: 0.7060\n",
            "Epoch [22/50], Train Loss: 0.8601, Val Loss: 0.8611, Train Acc: 0.7225, Val Acc: 0.7340\n",
            "Epoch [23/50], Train Loss: 0.8051, Val Loss: 0.7904, Train Acc: 0.7610, Val Acc: 0.7780\n",
            "Epoch [24/50], Train Loss: 0.7374, Val Loss: 0.7305, Train Acc: 0.8160, Val Acc: 0.7870\n",
            "Epoch [25/50], Train Loss: 0.6921, Val Loss: 0.6857, Train Acc: 0.8057, Val Acc: 0.8040\n",
            "Epoch [26/50], Train Loss: 0.6541, Val Loss: 0.6380, Train Acc: 0.8163, Val Acc: 0.8440\n",
            "Epoch [27/50], Train Loss: 0.5974, Val Loss: 0.5834, Train Acc: 0.8650, Val Acc: 0.8430\n",
            "Epoch [28/50], Train Loss: 0.5360, Val Loss: 0.5402, Train Acc: 0.8660, Val Acc: 0.8590\n",
            "Epoch [29/50], Train Loss: 0.4982, Val Loss: 0.5191, Train Acc: 0.8775, Val Acc: 0.8660\n",
            "Epoch [30/50], Train Loss: 0.4811, Val Loss: 0.4816, Train Acc: 0.8782, Val Acc: 0.8700\n",
            "Epoch [31/50], Train Loss: 0.4396, Val Loss: 0.4430, Train Acc: 0.8975, Val Acc: 0.8860\n",
            "Epoch [32/50], Train Loss: 0.3988, Val Loss: 0.4192, Train Acc: 0.9065, Val Acc: 0.8920\n",
            "Epoch [33/50], Train Loss: 0.3745, Val Loss: 0.3920, Train Acc: 0.9145, Val Acc: 0.9040\n",
            "Epoch [34/50], Train Loss: 0.3480, Val Loss: 0.3645, Train Acc: 0.9203, Val Acc: 0.9080\n",
            "Epoch [35/50], Train Loss: 0.3257, Val Loss: 0.3363, Train Acc: 0.9230, Val Acc: 0.9090\n",
            "Epoch [36/50], Train Loss: 0.2983, Val Loss: 0.3169, Train Acc: 0.9290, Val Acc: 0.9150\n",
            "Epoch [37/50], Train Loss: 0.2719, Val Loss: 0.3056, Train Acc: 0.9367, Val Acc: 0.9210\n",
            "Epoch [38/50], Train Loss: 0.2552, Val Loss: 0.2846, Train Acc: 0.9435, Val Acc: 0.9230\n",
            "Epoch [39/50], Train Loss: 0.2366, Val Loss: 0.2662, Train Acc: 0.9477, Val Acc: 0.9280\n",
            "Epoch [40/50], Train Loss: 0.2214, Val Loss: 0.2513, Train Acc: 0.9500, Val Acc: 0.9300\n",
            "Epoch [41/50], Train Loss: 0.2053, Val Loss: 0.2380, Train Acc: 0.9537, Val Acc: 0.9340\n",
            "Epoch [42/50], Train Loss: 0.1893, Val Loss: 0.2241, Train Acc: 0.9607, Val Acc: 0.9390\n",
            "Epoch [43/50], Train Loss: 0.1746, Val Loss: 0.2116, Train Acc: 0.9640, Val Acc: 0.9460\n",
            "Epoch [44/50], Train Loss: 0.1623, Val Loss: 0.2010, Train Acc: 0.9675, Val Acc: 0.9520\n",
            "Epoch [45/50], Train Loss: 0.1519, Val Loss: 0.1901, Train Acc: 0.9720, Val Acc: 0.9510\n",
            "Epoch [46/50], Train Loss: 0.1414, Val Loss: 0.1790, Train Acc: 0.9738, Val Acc: 0.9530\n",
            "Epoch [47/50], Train Loss: 0.1310, Val Loss: 0.1705, Train Acc: 0.9760, Val Acc: 0.9540\n",
            "Epoch [48/50], Train Loss: 0.1215, Val Loss: 0.1623, Train Acc: 0.9778, Val Acc: 0.9570\n",
            "Epoch [49/50], Train Loss: 0.1120, Val Loss: 0.1524, Train Acc: 0.9795, Val Acc: 0.9620\n",
            "Epoch [50/50], Train Loss: 0.1032, Val Loss: 0.1434, Train Acc: 0.9818, Val Acc: 0.9630\n",
            "time: 6.82 s (started: 2025-01-22 12:54:24 +00:00)\n"
          ]
        }
      ]
    },
    {
      "cell_type": "markdown",
      "source": [
        "The code provides a comprehensive evaluation of the model's performance by visualizing training and validation accuracy and loss trends, helping identify issues like overfitting or underfitting. The confusion matrix and classification report offer a detailed breakdown of the model's performance across all classes, showing precision, recall, and F1-scores. These evaluations are crucial for understanding the model's strengths and weaknesses, ensuring it generalizes well, and guiding further optimization steps for improved accuracy and robustness."
      ],
      "metadata": {
        "id": "OXA1LVa4pyme"
      }
    },
    {
      "cell_type": "code",
      "source": [
        "from sklearn.metrics import classification_report, confusion_matrix\n",
        "\n",
        "plt.figure(figsize=(12, 5))\n",
        "plt.subplot(1, 2, 1)\n",
        "plt.plot(train_accuracies, label='Train Accuracy')\n",
        "plt.plot(val_accuracies, label='Validation Accuracy')\n",
        "plt.title('Model Accuracy')\n",
        "plt.xlabel('Epoch')\n",
        "plt.ylabel('Accuracy')\n",
        "plt.legend()\n",
        "\n",
        "plt.subplot(1, 2, 2)\n",
        "plt.plot(train_losses, label='Train Loss')\n",
        "plt.plot(val_losses, label='Validation Loss')\n",
        "plt.title('Model Loss')\n",
        "plt.xlabel('Epoch')\n",
        "plt.ylabel('Loss')\n",
        "plt.legend()\n",
        "\n",
        "plt.show()\n",
        "\n",
        "model.eval()\n",
        "with torch.no_grad():\n",
        "    val_outputs = model(X_val_tensor)\n",
        "    _, val_predicted = torch.max(val_outputs, 1)\n",
        "\n",
        "\n",
        "conf_matrix = confusion_matrix(y_val, val_predicted.numpy())\n",
        "class_report = classification_report(y_val, val_predicted.numpy())\n",
        "\n",
        "print(\"Confusion Matrix:\\n\", conf_matrix)\n",
        "print(\"\\nClassification Report:\\n\", class_report)\n",
        "\n",
        "plt.figure(figsize=(8, 6))\n",
        "sns.heatmap(conf_matrix, annot=True, fmt=\"d\", cmap=\"Blues\", xticklabels=np.unique(y), yticklabels=np.unique(y))\n",
        "plt.title(\"Confusion Matrix\")\n",
        "plt.xlabel(\"Predicted\")\n",
        "plt.ylabel(\"True\")\n",
        "plt.show()\n"
      ],
      "metadata": {
        "colab": {
          "base_uri": "https://localhost:8080/",
          "height": 1000
        },
        "id": "DBoxVuZhIlMF",
        "outputId": "b0453d74-031c-4b64-aaf2-37e03bf14605"
      },
      "execution_count": 27,
      "outputs": [
        {
          "output_type": "display_data",
          "data": {
            "text/plain": [
              "<Figure size 1200x500 with 2 Axes>"
            ],
            "image/png": "[encoded data removed]"
          },
          "metadata": {}
        },
        {
          "output_type": "stream",
          "name": "stdout",
          "text": [
            "Confusion Matrix:\n",
            " [[111   0   0   0   0   0   0   0   0   0]\n",
            " [  0 102   0   0   0   0   0   0   2   1]\n",
            " [  0   0 100   0   0   2   3   0   0   0]\n",
            " [  0   0   0  78   2   0   0   0   1   4]\n",
            " [  0   0   0   0  91   0   2   1   0   0]\n",
            " [  0   0   0   2   3  93   0   0   0   0]\n",
            " [  0   0   0   0   3   1  93   1   0   0]\n",
            " [  0   0   0   1   2   0   2 106   1   0]\n",
            " [  0   0   0   0   1   0   0   2  78   0]\n",
            " [  0   0   0   0   0   0   0   0   0 111]]\n",
            "\n",
            "Classification Report:\n",
            "               precision    recall  f1-score   support\n",
            "\n",
            "           0       1.00      1.00      1.00       111\n",
            "           1       1.00      0.97      0.99       105\n",
            "           2       1.00      0.95      0.98       105\n",
            "           3       0.96      0.92      0.94        85\n",
            "           4       0.89      0.97      0.93        94\n",
            "           5       0.97      0.95      0.96        98\n",
            "           6       0.93      0.95      0.94        98\n",
            "           7       0.96      0.95      0.95       112\n",
            "           8       0.95      0.96      0.96        81\n",
            "           9       0.96      1.00      0.98       111\n",
            "\n",
            "    accuracy                           0.96      1000\n",
            "   macro avg       0.96      0.96      0.96      1000\n",
            "weighted avg       0.96      0.96      0.96      1000\n",
            "\n"
          ]
        },
        {
          "output_type": "display_data",
          "data": {
            "text/plain": [
              "<Figure size 800x600 with 2 Axes>"
            ],
            "image/png": "[encoded data removed]"
          },
          "metadata": {}
        },
        {
          "output_type": "stream",
          "name": "stdout",
          "text": [
            "time: 609 ms (started: 2025-01-22 12:54:33 +00:00)\n"
          ]
        }
      ]
    },
    {
      "cell_type": "markdown",
      "source": [
        "### Experiment number 2"
      ],
      "metadata": {
        "id": "SK-L3P-XlDSQ"
      }
    },
    {
      "cell_type": "markdown",
      "source": [
        "This code prepares the data and parameters for Experiment 2, focusing on testing the effects of modified hyperparameters. The learning rate is set to **0.01**, batch size to **64**, and the model will train for **30 epochs**. The data is split into training and validation sets in an 80:20 ratio using `train_test_split`. The data is converted into PyTorch Tensors and organized into `TensorDataset` objects. Finally, `DataLoaders` are created for both datasets, with shuffling enabled for the training set to ensure randomized batches during training. This setup enables efficient data handling and evaluation for the experiment."
      ],
      "metadata": {
        "id": "hZHi08ibqvLj"
      }
    },
    {
      "cell_type": "code",
      "source": [
        "learning_rate = 0.01\n",
        "batch_size = 64\n",
        "num_epochs = 30\n",
        "\n",
        "X_train, X_val, y_train, y_val = train_test_split(X, y, test_size=0.2, random_state=42)\n",
        "\n",
        "X_train_tensor = torch.tensor(X_train, dtype=torch.float32)\n",
        "X_val_tensor = torch.tensor(X_val, dtype=torch.float32)\n",
        "y_train_tensor = torch.tensor(y_train, dtype=torch.long)\n",
        "y_val_tensor = torch.tensor(y_val, dtype=torch.long)\n",
        "\n",
        "train_dataset = torch.utils.data.TensorDataset(X_train_tensor, y_train_tensor)\n",
        "val_dataset = torch.utils.data.TensorDataset(X_val_tensor, y_val_tensor)\n",
        "\n",
        "train_loader = torch.utils.data.DataLoader(train_dataset, batch_size=batch_size, shuffle=True)\n",
        "val_loader = torch.utils.data.DataLoader(val_dataset, batch_size=batch_size, shuffle=False)\n"
      ],
      "metadata": {
        "colab": {
          "base_uri": "https://localhost:8080/"
        },
        "id": "bvhwYsMGqSY8",
        "outputId": "82c9a313-bfc0-41ff-f0f9-7a9e2054a2bb"
      },
      "execution_count": 28,
      "outputs": [
        {
          "output_type": "stream",
          "name": "stdout",
          "text": [
            "time: 16.7 ms (started: 2025-01-22 12:54:38 +00:00)\n"
          ]
        }
      ]
    },
    {
      "cell_type": "markdown",
      "source": [
        "The `ExperimentModel2` is designed to test the impact of a simplified architecture and dropout regularization on performance. The model consists of four fully connected layers with a decreasing number of neurons: 784, 256, 128, 64, and 10. A **Dropout layer** with a probability of 0.3 is added after the second layer to reduce overfitting by randomly deactivating neurons during training. The activation function used is **ReLU** for non-linear transformations, and the output layer does not apply an activation function, as **CrossEntropyLoss** is used for multiclass classification. The optimizer is set to **SGD** to evaluate how gradient descent with momentum performs compared to other methods. The model is transferred to the appropriate device (CPU/GPU) to prepare for training. This configuration aims to analyze the trade-offs between architectural complexity and generalization."
      ],
      "metadata": {
        "id": "-DiICLlVrP5C"
      }
    },
    {
      "cell_type": "code",
      "source": [
        "class ExperimentModel2(nn.Module):\n",
        "    def __init__(self):\n",
        "        super(ExperimentModel2, self).__init__()\n",
        "        self.fc1 = nn.Linear(784, 256)\n",
        "        self.fc2 = nn.Linear(256, 128)\n",
        "        self.fc3 = nn.Linear(128, 64)\n",
        "        self.fc4 = nn.Linear(64, 10)\n",
        "        self.dropout = nn.Dropout(0.3)\n",
        "\n",
        "    def forward(self, x):\n",
        "        x = nn.functional.relu(self.fc1(x))\n",
        "        x = nn.functional.relu(self.fc2(x))\n",
        "        x = self.dropout(x)\n",
        "        x = nn.functional.relu(self.fc3(x))\n",
        "        x = self.fc4(x)\n",
        "        return x\n",
        "\n",
        "model = ExperimentModel2()\n",
        "device = torch.device(\"cuda\" if torch.cuda.is_available() else \"cpu\")\n",
        "model.to(device)\n",
        "\n",
        "\n",
        "criterion = nn.CrossEntropyLoss()\n",
        "optimizer = optim.SGD(model.parameters(), lr=learning_rate)\n",
        "\n",
        "train_losses, val_losses = [], []\n",
        "train_accuracies, val_accuracies = [], []"
      ],
      "metadata": {
        "colab": {
          "base_uri": "https://localhost:8080/"
        },
        "id": "N6TUyvxdqyFd",
        "outputId": "0b5d044e-0a84-4bb1-ed09-0d1a1f7eabdf"
      },
      "execution_count": 29,
      "outputs": [
        {
          "output_type": "stream",
          "name": "stdout",
          "text": [
            "time: 12.5 ms (started: 2025-01-22 12:54:41 +00:00)\n"
          ]
        }
      ]
    },
    {
      "cell_type": "markdown",
      "source": [
        "The provided `train` function is a comprehensive training loop designed for evaluating the performance of the `ExperimentModel2` using training and validation data. The function iterates through a specified number of epochs (`num_epochs`), where in each epoch, the model is trained and evaluated. During the training phase, the model updates its parameters using backpropagation and the optimizer, while computing the total loss and accuracy for the training set. In the validation phase, the model's performance is assessed without gradient updates to track generalization. The function records the losses and accuracies for both training and validation datasets, printing these metrics at the end of each epoch for monitoring the model's progress over time. This ensures consistent evaluation and allows insights into overfitting or underfitting."
      ],
      "metadata": {
        "id": "Q21MMVoBrskq"
      }
    },
    {
      "cell_type": "code",
      "source": [
        "def train(model, train_loader, val_loader, criterion, optimizer, num_epochs):\n",
        "    for epoch in range(num_epochs):\n",
        "        model.train()\n",
        "        train_loss, correct_train = 0, 0\n",
        "        for X_batch, y_batch in train_loader:\n",
        "            X_batch, y_batch = X_batch.to(device), y_batch.to(device)\n",
        "\n",
        "            optimizer.zero_grad()\n",
        "            outputs = model(X_batch)\n",
        "            loss = criterion(outputs, y_batch)\n",
        "            loss.backward()\n",
        "            optimizer.step()\n",
        "\n",
        "            train_loss += loss.item() * X_batch.size(0)\n",
        "            correct_train += (outputs.argmax(1) == y_batch).sum().item()\n",
        "\n",
        "        train_losses.append(train_loss / len(train_loader.dataset))\n",
        "        train_accuracies.append(correct_train / len(train_loader.dataset))\n",
        "\n",
        "        model.eval()\n",
        "        val_loss, correct_val = 0, 0\n",
        "        with torch.no_grad():\n",
        "            for X_batch, y_batch in val_loader:\n",
        "                X_batch, y_batch = X_batch.to(device), y_batch.to(device)\n",
        "                outputs = model(X_batch)\n",
        "                loss = criterion(outputs, y_batch)\n",
        "                val_loss += loss.item() * X_batch.size(0)\n",
        "                correct_val += (outputs.argmax(1) == y_batch).sum().item()\n",
        "\n",
        "        val_losses.append(val_loss / len(val_loader.dataset))\n",
        "        val_accuracies.append(correct_val / len(val_loader.dataset))\n",
        "\n",
        "        print(f\"Epoch {epoch+1}/{num_epochs}, Train Loss: {train_losses[-1]:.4f}, Train Accuracy: {train_accuracies[-1]:.4f}, Val Loss: {val_losses[-1]:.4f}, Val Accuracy: {val_accuracies[-1]:.4f}\")\n",
        "\n",
        "train(model, train_loader, val_loader, criterion, optimizer, num_epochs)\n"
      ],
      "metadata": {
        "colab": {
          "base_uri": "https://localhost:8080/"
        },
        "id": "iFI8Te5WrWHz",
        "outputId": "b8ce3c0c-c41d-41ca-ab6c-7c0e0806e28f"
      },
      "execution_count": 30,
      "outputs": [
        {
          "output_type": "stream",
          "name": "stdout",
          "text": [
            "Epoch 1/30, Train Loss: 2.1925, Train Accuracy: 0.3307, Val Loss: 2.1151, Val Accuracy: 0.2710\n",
            "Epoch 2/30, Train Loss: 1.1022, Train Accuracy: 0.6075, Val Loss: 1.4336, Val Accuracy: 0.5170\n",
            "Epoch 3/30, Train Loss: 0.7175, Train Accuracy: 0.7492, Val Loss: 0.5612, Val Accuracy: 0.8320\n",
            "Epoch 4/30, Train Loss: 0.5792, Train Accuracy: 0.7995, Val Loss: 0.7160, Val Accuracy: 0.7720\n",
            "Epoch 5/30, Train Loss: 0.3131, Train Accuracy: 0.9038, Val Loss: 0.3805, Val Accuracy: 0.8400\n",
            "Epoch 6/30, Train Loss: 0.2087, Train Accuracy: 0.9303, Val Loss: 0.2652, Val Accuracy: 0.9230\n",
            "Epoch 7/30, Train Loss: 0.2338, Train Accuracy: 0.9275, Val Loss: 0.3059, Val Accuracy: 0.9120\n",
            "Epoch 8/30, Train Loss: 0.1141, Train Accuracy: 0.9645, Val Loss: 0.0748, Val Accuracy: 0.9750\n",
            "Epoch 9/30, Train Loss: 0.0730, Train Accuracy: 0.9790, Val Loss: 0.2547, Val Accuracy: 0.9060\n",
            "Epoch 10/30, Train Loss: 0.0671, Train Accuracy: 0.9798, Val Loss: 0.0551, Val Accuracy: 0.9820\n",
            "Epoch 11/30, Train Loss: 0.0427, Train Accuracy: 0.9868, Val Loss: 0.0413, Val Accuracy: 0.9840\n",
            "Epoch 12/30, Train Loss: 1.1373, Train Accuracy: 0.7850, Val Loss: 0.6022, Val Accuracy: 0.8130\n",
            "Epoch 13/30, Train Loss: 0.3659, Train Accuracy: 0.8808, Val Loss: 0.3754, Val Accuracy: 0.8840\n",
            "Epoch 14/30, Train Loss: 0.3197, Train Accuracy: 0.9067, Val Loss: 0.1661, Val Accuracy: 0.9510\n",
            "Epoch 15/30, Train Loss: 0.1146, Train Accuracy: 0.9633, Val Loss: 0.1036, Val Accuracy: 0.9630\n",
            "Epoch 16/30, Train Loss: 0.3726, Train Accuracy: 0.8938, Val Loss: 0.0941, Val Accuracy: 0.9760\n",
            "Epoch 17/30, Train Loss: 0.0657, Train Accuracy: 0.9802, Val Loss: 0.0606, Val Accuracy: 0.9790\n",
            "Epoch 18/30, Train Loss: 0.0459, Train Accuracy: 0.9868, Val Loss: 0.1045, Val Accuracy: 0.9640\n",
            "Epoch 19/30, Train Loss: 0.0340, Train Accuracy: 0.9892, Val Loss: 0.0407, Val Accuracy: 0.9870\n",
            "Epoch 20/30, Train Loss: 0.0481, Train Accuracy: 0.9840, Val Loss: 0.1056, Val Accuracy: 0.9610\n",
            "Epoch 21/30, Train Loss: 0.0324, Train Accuracy: 0.9888, Val Loss: 0.0365, Val Accuracy: 0.9890\n",
            "Epoch 22/30, Train Loss: 0.0228, Train Accuracy: 0.9945, Val Loss: 0.1447, Val Accuracy: 0.9580\n",
            "Epoch 23/30, Train Loss: 0.0207, Train Accuracy: 0.9955, Val Loss: 0.0269, Val Accuracy: 0.9910\n",
            "Epoch 24/30, Train Loss: 0.0126, Train Accuracy: 0.9978, Val Loss: 0.0288, Val Accuracy: 0.9920\n",
            "Epoch 25/30, Train Loss: 0.0177, Train Accuracy: 0.9950, Val Loss: 0.0383, Val Accuracy: 0.9890\n",
            "Epoch 26/30, Train Loss: 0.0130, Train Accuracy: 0.9970, Val Loss: 0.0691, Val Accuracy: 0.9780\n",
            "Epoch 27/30, Train Loss: 0.0097, Train Accuracy: 0.9985, Val Loss: 0.0318, Val Accuracy: 0.9890\n",
            "Epoch 28/30, Train Loss: 0.0077, Train Accuracy: 0.9985, Val Loss: 0.0349, Val Accuracy: 0.9900\n",
            "Epoch 29/30, Train Loss: 0.0088, Train Accuracy: 0.9980, Val Loss: 0.0367, Val Accuracy: 0.9870\n",
            "Epoch 30/30, Train Loss: 0.0112, Train Accuracy: 0.9970, Val Loss: 0.1545, Val Accuracy: 0.9550\n",
            "time: 4.53 s (started: 2025-01-22 12:54:44 +00:00)\n"
          ]
        }
      ]
    },
    {
      "cell_type": "markdown",
      "source": [
        "This code visualizes the training process by plotting the accuracy and loss metrics over the epochs for both the training and validation datasets. The first subplot shows the accuracy progression, comparing training and validation accuracy, while the second subplot displays the loss evolution for both datasets. These plots help assess the model's learning behavior, monitor convergence, and identify issues like overfitting or underfitting."
      ],
      "metadata": {
        "id": "KgbuX6mzslQk"
      }
    },
    {
      "cell_type": "code",
      "source": [
        "plt.figure(figsize=(12, 5))\n",
        "plt.subplot(1, 2, 1)\n",
        "plt.plot(range(1, num_epochs+1), train_accuracies, label=\"Train Accuracy\")\n",
        "plt.plot(range(1, num_epochs+1), val_accuracies, label=\"Validation Accuracy\")\n",
        "plt.xlabel(\"Epoch\")\n",
        "plt.ylabel(\"Accuracy\")\n",
        "plt.legend()\n",
        "plt.title(\"Model Accuracy\")\n",
        "\n",
        "plt.subplot(1, 2, 2)\n",
        "plt.plot(range(1, num_epochs+1), train_losses, label=\"Train Loss\")\n",
        "plt.plot(range(1, num_epochs+1), val_losses, label=\"Validation Loss\")\n",
        "plt.xlabel(\"Epoch\")\n",
        "plt.ylabel(\"Loss\")\n",
        "plt.legend()\n",
        "plt.title(\"Model Loss\")\n",
        "\n",
        "plt.show()"
      ],
      "metadata": {
        "colab": {
          "base_uri": "https://localhost:8080/",
          "height": 504
        },
        "id": "ZiMNUDSGsNeD",
        "outputId": "76b70495-bf96-4b09-b4a7-95e34dfd09fd"
      },
      "execution_count": 31,
      "outputs": [
        {
          "output_type": "display_data",
          "data": {
            "text/plain": [
              "<Figure size 1200x500 with 2 Axes>"
            ],
            "image/png": "[encoded data removed]"
          },
          "metadata": {}
        },
        {
          "output_type": "stream",
          "name": "stdout",
          "text": [
            "time: 441 ms (started: 2025-01-22 12:54:53 +00:00)\n"
          ]
        }
      ]
    },
    {
      "cell_type": "markdown",
      "source": [
        "This code evaluates the trained model on the validation dataset by generating predictions and comparing them to the true labels. It calculates the confusion matrix to visualize the model's classification performance for each class and displays it as a heatmap. Additionally, it provides a classification report with precision, recall, F1-score, and support for each class. These metrics help assess the model's overall performance and identify areas where it may need improvement."
      ],
      "metadata": {
        "id": "lrPsON96syCg"
      }
    },
    {
      "cell_type": "code",
      "source": [
        "from sklearn.metrics import classification_report\n",
        "model.eval()\n",
        "y_true, y_pred = [], []\n",
        "with torch.no_grad():\n",
        "    for X_batch, y_batch in val_loader:\n",
        "        X_batch, y_batch = X_batch.to(device), y_batch.to(device)\n",
        "        outputs = model(X_batch)\n",
        "        y_true.extend(y_batch.cpu().numpy())\n",
        "        y_pred.extend(outputs.argmax(1).cpu().numpy())\n",
        "\n",
        "conf_matrix = confusion_matrix(y_true, y_pred)\n",
        "print(\"Confusion Matrix:\")\n",
        "print(conf_matrix)\n",
        "sns.heatmap(conf_matrix, annot=True, fmt=\"d\", cmap=\"Blues\")\n",
        "plt.xlabel(\"Predicted\")\n",
        "plt.ylabel(\"True\")\n",
        "plt.title(\"Confusion Matrix\")\n",
        "plt.show()\n",
        "\n",
        "print(\"Classification Report:\")\n",
        "print(classification_report(y_true, y_pred))\n"
      ],
      "metadata": {
        "colab": {
          "base_uri": "https://localhost:8080/",
          "height": 993
        },
        "id": "2ikePJGF8cJU",
        "outputId": "4802cba8-d030-48a5-fb90-c5ee4e79a0da"
      },
      "execution_count": 32,
      "outputs": [
        {
          "output_type": "stream",
          "name": "stdout",
          "text": [
            "Confusion Matrix:\n",
            "[[111   0   0   0   0   0   0   0   0   0]\n",
            " [  0 104   1   0   0   0   0   0   0   0]\n",
            " [  0   0 105   0   0   0   0   0   0   0]\n",
            " [  0   0   1  80   0   0   0   4   0   0]\n",
            " [  0   0   0   0  90   0   0   3   1   0]\n",
            " [  0   0   0   2   3  88   4   1   0   0]\n",
            " [  0   0   1   0   0   0  97   0   0   0]\n",
            " [  0   0   0   0   0   0   0 112   0   0]\n",
            " [  0   0   0   0   0   0   0  18  63   0]\n",
            " [  0   2   1   0   0   0   0   1   2 105]]\n"
          ]
        },
        {
          "output_type": "display_data",
          "data": {
            "text/plain": [
              "<Figure size 640x480 with 2 Axes>"
            ],
            "image/png": "[encoded data removed]"
          },
          "metadata": {}
        },
        {
          "output_type": "stream",
          "name": "stdout",
          "text": [
            "Classification Report:\n",
            "              precision    recall  f1-score   support\n",
            "\n",
            "           0       1.00      1.00      1.00       111\n",
            "           1       0.98      0.99      0.99       105\n",
            "           2       0.96      1.00      0.98       105\n",
            "           3       0.98      0.94      0.96        85\n",
            "           4       0.97      0.96      0.96        94\n",
            "           5       1.00      0.90      0.95        98\n",
            "           6       0.96      0.99      0.97        98\n",
            "           7       0.81      1.00      0.89       112\n",
            "           8       0.95      0.78      0.86        81\n",
            "           9       1.00      0.95      0.97       111\n",
            "\n",
            "    accuracy                           0.95      1000\n",
            "   macro avg       0.96      0.95      0.95      1000\n",
            "weighted avg       0.96      0.95      0.96      1000\n",
            "\n",
            "time: 351 ms (started: 2025-01-22 12:54:57 +00:00)\n"
          ]
        }
      ]
    },
    {
      "cell_type": "markdown",
      "source": [
        "### Save Trained model (your best model)\n",
        "Read about Save and load models in pytorch here: [https://pytorch.org/tutorials/beginner/saving_loading_models.html](https://pytorch.org/tutorials/beginner/saving_loading_models.html)\n",
        "\n"
      ],
      "metadata": {
        "id": "zS3_ZnXk450S"
      }
    },
    {
      "cell_type": "markdown",
      "source": [
        "This code saves the model's state dictionary to a file named `'best_model.pth'`, allowing the model to be reloaded later without retraining."
      ],
      "metadata": {
        "id": "lMGhj3S-vulI"
      }
    },
    {
      "cell_type": "code",
      "source": [
        "\n",
        "torch.save(model.state_dict(), 'best_model.pth')\n",
        "\n",
        "print(\"Model saved successfully!\")\n"
      ],
      "metadata": {
        "id": "Pb66kyHa5c-l",
        "colab": {
          "base_uri": "https://localhost:8080/"
        },
        "outputId": "86d0910e-284e-4c9c-90a8-7e45c16d7fe9"
      },
      "execution_count": 33,
      "outputs": [
        {
          "output_type": "stream",
          "name": "stdout",
          "text": [
            "Model saved successfully!\n",
            "time: 6.95 ms (started: 2025-01-22 12:55:01 +00:00)\n"
          ]
        }
      ]
    },
    {
      "cell_type": "markdown",
      "source": [
        "## Test Environment (of part 2 only)\n",
        "This part is meant to show the tester how your model is performing. Keep in mind that the only cells he is going to run are the cells below.<br>\n",
        "(If there are libraries that need to be used please add their import. If there is a process that the data has to go through before it enters the model, don't forget to add it as well)."
      ],
      "metadata": {
        "id": "L0xlxiaj6xM4"
      }
    },
    {
      "cell_type": "markdown",
      "source": [
        "### Load trained model"
      ],
      "metadata": {
        "id": "-rMJ1ucy7lKB"
      }
    },
    {
      "cell_type": "markdown",
      "source": [
        "\n",
        "This code sets up a testing environment for the trained model by reloading its state dictionary (best_model.pth). It ensures the model is correctly mapped to the available device (CPU or GPU), handles errors gracefully during loading, and displays the model's architecture and saved weights for verification. This process confirms the readiness of the model for evaluation."
      ],
      "metadata": {
        "id": "JVw4qDv6wJbs"
      }
    },
    {
      "cell_type": "code",
      "source": [
        "\n",
        "class ExperimentModel1(nn.Module):\n",
        "    def __init__(self):\n",
        "        super(ExperimentModel1, self).__init__()\n",
        "        self.fc1 = nn.Linear(784, 256)\n",
        "        self.fc2 = nn.Linear(256, 128)\n",
        "        self.dropout = nn.Dropout(0.3)\n",
        "        self.fc3 = nn.Linear(128, 64)\n",
        "        self.fc4 = nn.Linear(64, 10)\n",
        "\n",
        "    def forward(self, x):\n",
        "        x = nn.functional.relu(self.fc1(x))\n",
        "        x = nn.functional.relu(self.fc2(x))\n",
        "        x = self.dropout(x)\n",
        "        x = nn.functional.relu(self.fc3(x))\n",
        "        x = self.fc4(x)\n",
        "        return x\n",
        "\n",
        "\n",
        "model = ExperimentModel1()\n",
        "\n",
        "device = torch.device('cuda' if torch.cuda.is_available() else 'cpu')\n",
        "model.to(device)\n",
        "\n",
        "try:\n",
        "    model.load_state_dict(torch.load('best_model.pth', map_location=device))\n",
        "    model.eval()\n",
        "    print(\"Model loaded successfully!\")\n",
        "except Exception as e:\n",
        "    print(f\"Error loading model: {e}\")\n",
        "\n",
        "print(\"Model Architecture:\")\n",
        "print(model)\n",
        "\n",
        "\n",
        "print(\"Loaded Model Weights:\")\n",
        "print(model.state_dict().keys())\n"
      ],
      "metadata": {
        "id": "I27yHolJ7naT",
        "colab": {
          "base_uri": "https://localhost:8080/"
        },
        "outputId": "0f98cb9b-d8c8-49a9-9275-af0c02dd53cc"
      },
      "execution_count": 34,
      "outputs": [
        {
          "output_type": "stream",
          "name": "stdout",
          "text": [
            "Model loaded successfully!\n",
            "Model Architecture:\n",
            "ExperimentModel1(\n",
            "  (fc1): Linear(in_features=784, out_features=256, bias=True)\n",
            "  (fc2): Linear(in_features=256, out_features=128, bias=True)\n",
            "  (dropout): Dropout(p=0.3, inplace=False)\n",
            "  (fc3): Linear(in_features=128, out_features=64, bias=True)\n",
            "  (fc4): Linear(in_features=64, out_features=10, bias=True)\n",
            ")\n",
            "Loaded Model Weights:\n",
            "odict_keys(['fc1.weight', 'fc1.bias', 'fc2.weight', 'fc2.bias', 'fc3.weight', 'fc3.bias', 'fc4.weight', 'fc4.bias'])\n",
            "time: 17.7 ms (started: 2025-01-22 12:55:04 +00:00)\n"
          ]
        },
        {
          "output_type": "stream",
          "name": "stderr",
          "text": [
            "<ipython-input-34-e157a3068867>:25: FutureWarning: You are using `torch.load` with `weights_only=False` (the current default value), which uses the default pickle module implicitly. It is possible to construct malicious pickle data which will execute arbitrary code during unpickling (See https://github.com/pytorch/pytorch/blob/main/SECURITY.md#untrusted-models for more details). In a future release, the default value for `weights_only` will be flipped to `True`. This limits the functions that could be executed during unpickling. Arbitrary objects will no longer be allowed to be loaded via this mode unless they are explicitly allowlisted by the user via `torch.serialization.add_safe_globals`. We recommend you start setting `weights_only=True` for any use case where you don't have full control of the loaded file. Please open an issue on GitHub for any issues related to this experimental feature.\n",
            "  model.load_state_dict(torch.load('best_model.pth', map_location=device))\n"
          ]
        }
      ]
    },
    {
      "cell_type": "markdown",
      "source": [
        "### Single prediction\n",
        "Let the tester examine your trained model on single predicttion test.<br>You will use the colab.file library to allow the tester to upload a single npy file of an Sign Language Digit (28x28 image as npy).<br>\n",
        "Then build a function that takes this image, loads the weights of the trained model (If you haven't loaded it before), show the image and prints a prediction."
      ],
      "metadata": {
        "id": "5PSVr_J-_wmX"
      }
    },
    {
      "cell_type": "markdown",
      "source": [
        "\n",
        "This code implements a pipeline to process an input image or .npy file, load a trained neural network model, and predict the class of the input data. The process_image function handles the preprocessing of the input by reshaping, normalizing, and displaying the image. The load_model function defines a neural network architecture, loads the pre-trained weights from a file (best_model.pth), and prepares the model for inference. The predict function takes the preprocessed input tensor, passes it through the model, and returns the predicted label with its probabilities. The main function ties everything together, allowing the user to upload a file, process it, and obtain a classification result. This implementation is modular and ensures that the model can be reused and tested on new data efficiently."
      ],
      "metadata": {
        "id": "MLX7OoyB6iQT"
      }
    },
    {
      "cell_type": "code",
      "source": [
        "import torch\n",
        "import numpy as np\n",
        "import matplotlib.pyplot as plt\n",
        "from google.colab import files\n",
        "from PIL import Image\n",
        "\n",
        "\n",
        "def process_image(file_name):\n",
        "    try:\n",
        "        if file_name.endswith(\".npy\"):\n",
        "            input_array = np.load(file_name)\n",
        "            print(\"Loaded .npy file successfully!\")\n",
        "\n",
        "            if input_array.shape == (784,):\n",
        "                input_array = input_array.reshape((28, 28))\n",
        "                print(\"Reshaped array to (28, 28) for image processing.\")\n",
        "        else:\n",
        "            input_image = Image.open(file_name).convert(\"L\").resize((28, 28))\n",
        "            input_array = np.array(input_image)\n",
        "\n",
        "        input_array = input_array / 255.0\n",
        "\n",
        "\n",
        "        print(\"Input Image/Array Shape:\", input_array.shape)\n",
        "        plt.imshow(input_array, cmap=\"gray\")\n",
        "        plt.title(\"Processed Image/Array\")\n",
        "        plt.colorbar()\n",
        "        plt.show()\n",
        "\n",
        "        return input_array\n",
        "    except Exception as e:\n",
        "        print(f\"Error processing image: {e}\")\n",
        "        return None\n",
        "\n",
        "\n",
        "def load_model(device):\n",
        "    class ExperimentModel1(torch.nn.Module):\n",
        "        def __init__(self):\n",
        "            super(ExperimentModel1, self).__init__()\n",
        "            self.fc1 = torch.nn.Linear(784, 256)\n",
        "            self.fc2 = torch.nn.Linear(256, 128)\n",
        "            self.dropout = torch.nn.Dropout(0.3)\n",
        "            self.fc3 = torch.nn.Linear(128, 64)\n",
        "            self.fc4 = torch.nn.Linear(64, 10)\n",
        "\n",
        "        def forward(self, x):\n",
        "            x = torch.nn.functional.relu(self.fc1(x))\n",
        "            x = torch.nn.functional.relu(self.fc2(x))\n",
        "            x = self.dropout(x)\n",
        "            x = torch.nn.functional.relu(self.fc3(x))\n",
        "            x = self.fc4(x)\n",
        "            return x\n",
        "\n",
        "    model = ExperimentModel1().to(device)\n",
        "    print(\"Model Architecture:\")\n",
        "    print(model)\n",
        "\n",
        "    try:\n",
        "        model.load_state_dict(torch.load('best_model.pth', map_location=device))\n",
        "        model.eval()\n",
        "        print(\"Model Weights Loaded Successfully!\")\n",
        "    except Exception as e:\n",
        "        print(f\"Error Loading Model Weights: {e}\")\n",
        "\n",
        "    return model\n",
        "\n",
        "\n",
        "def predict(model, input_tensor):\n",
        "    \"\"\"Makes a prediction with the loaded model.\"\"\"\n",
        "    with torch.no_grad():\n",
        "        output = model(input_tensor)\n",
        "        probabilities = torch.nn.functional.softmax(output, dim=1).cpu().numpy()\n",
        "\n",
        "        print(\"Model Output (Logits):\", output.cpu().numpy())\n",
        "        print(\"Model Output (Probabilities):\", probabilities)\n",
        "        predicted_label = torch.argmax(output, dim=1).item()\n",
        "\n",
        "    return predicted_label\n",
        "\n",
        "\n",
        "def main():\n",
        "    uploaded = files.upload()\n",
        "    file_name = list(uploaded.keys())[0]\n",
        "\n",
        "    input_array = process_image(file_name)\n",
        "    if input_array is None:\n",
        "        print(\"Image/Array processing failed. Exiting...\")\n",
        "        return\n",
        "\n",
        "    device = torch.device('cuda' if torch.cuda.is_available() else 'cpu')\n",
        "    input_tensor = torch.tensor(input_array, dtype=torch.float32).view(1, -1).to(device)\n",
        "\n",
        "    print(\"Input Tensor Shape:\", input_tensor.shape)\n",
        "\n",
        "    model = load_model(device)\n",
        "\n",
        "    predicted_label = predict(model, input_tensor)\n",
        "    print(f\"Predicted Label: {predicted_label}\")\n",
        "\n",
        "\n",
        "\n",
        "main()\n"
      ],
      "metadata": {
        "id": "Y7SBK56880aY",
        "colab": {
          "base_uri": "https://localhost:8080/",
          "height": 892
        },
        "outputId": "16d61d91-172c-4583-92a3-d934ba69fb60"
      },
      "execution_count": 35,
      "outputs": [
        {
          "output_type": "display_data",
          "data": {
            "text/plain": [
              "<IPython.core.display.HTML object>"
            ],
            "text/html": [
              "\n",
              "     <input type=\"file\" id=\"files-6e8915ef-ffcb-49b0-bad1-37f91d3dbbd7\" name=\"files[]\" multiple disabled\n",
              "        style=\"border:none\" />\n",
              "     <output id=\"result-6e8915ef-ffcb-49b0-bad1-37f91d3dbbd7\">\n",
              "      Upload widget is only available when the cell has been executed in the\n",
              "      current browser session. Please rerun this cell to enable.\n",
              "      </output>\n",
              "      <script>// Copyright 2017 Google LLC\n",
              "//\n",
              "// Licensed under the Apache License, Version 2.0 (the \"License\");\n",
              "// you may not use this file except in compliance with the License.\n",
              "// You may obtain a copy of the License at\n",
              "//\n",
              "//      http://www.apache.org/licenses/LICENSE-2.0\n",
              "//\n",
              "// Unless required by applicable law or agreed to in writing, software\n",
              "// distributed under the License is distributed on an \"AS IS\" BASIS,\n",
              "// WITHOUT WARRANTIES OR CONDITIONS OF ANY KIND, either express or implied.\n",
              "// See the License for the specific language governing permissions and\n",
              "// limitations under the License.\n",
              "\n",
              "/**\n",
              " * @fileoverview Helpers for google.colab Python module.\n",
              " */\n",
              "(function(scope) {\n",
              "function span(text, styleAttributes = {}) {\n",
              "  const element = document.createElement('span');\n",
              "  element.textContent = text;\n",
              "  for (const key of Object.keys(styleAttributes)) {\n",
              "    element.style[key] = styleAttributes[key];\n",
              "  }\n",
              "  return element;\n",
              "}\n",
              "\n",
              "// Max number of bytes which will be uploaded at a time.\n",
              "const MAX_PAYLOAD_SIZE = 100 * 1024;\n",
              "\n",
              "function _uploadFiles(inputId, outputId) {\n",
              "  const steps = uploadFilesStep(inputId, outputId);\n",
              "  const outputElement = document.getElementById(outputId);\n",
              "  // Cache steps on the outputElement to make it available for the next call\n",
              "  // to uploadFilesContinue from Python.\n",
              "  outputElement.steps = steps;\n",
              "\n",
              "  return _uploadFilesContinue(outputId);\n",
              "}\n",
              "\n",
              "// This is roughly an async generator (not supported in the browser yet),\n",
              "// where there are multiple asynchronous steps and the Python side is going\n",
              "// to poll for completion of each step.\n",
              "// This uses a Promise to block the python side on completion of each step,\n",
              "// then passes the result of the previous step as the input to the next step.\n",
              "function _uploadFilesContinue(outputId) {\n",
              "  const outputElement = document.getElementById(outputId);\n",
              "  const steps = outputElement.steps;\n",
              "\n",
              "  const next = steps.next(outputElement.lastPromiseValue);\n",
              "  return Promise.resolve(next.value.promise).then((value) => {\n",
              "    // Cache the last promise value to make it available to the next\n",
              "    // step of the generator.\n",
              "    outputElement.lastPromiseValue = value;\n",
              "    return next.value.response;\n",
              "  });\n",
              "}\n",
              "\n",
              "/**\n",
              " * Generator function which is called between each async step of the upload\n",
              " * process.\n",
              " * @param {string} inputId Element ID of the input file picker element.\n",
              " * @param {string} outputId Element ID of the output display.\n",
              " * @return {!Iterable<!Object>} Iterable of next steps.\n",
              " */\n",
              "function* uploadFilesStep(inputId, outputId) {\n",
              "  const inputElement = document.getElementById(inputId);\n",
              "  inputElement.disabled = false;\n",
              "\n",
              "  const outputElement = document.getElementById(outputId);\n",
              "  outputElement.innerHTML = '';\n",
              "\n",
              "  const pickedPromise = new Promise((resolve) => {\n",
              "    inputElement.addEventListener('change', (e) => {\n",
              "      resolve(e.target.files);\n",
              "    });\n",
              "  });\n",
              "\n",
              "  const cancel = document.createElement('button');\n",
              "  inputElement.parentElement.appendChild(cancel);\n",
              "  cancel.textContent = 'Cancel upload';\n",
              "  const cancelPromise = new Promise((resolve) => {\n",
              "    cancel.onclick = () => {\n",
              "      resolve(null);\n",
              "    };\n",
              "  });\n",
              "\n",
              "  // Wait for the user to pick the files.\n",
              "  const files = yield {\n",
              "    promise: Promise.race([pickedPromise, cancelPromise]),\n",
              "    response: {\n",
              "      action: 'starting',\n",
              "    }\n",
              "  };\n",
              "\n",
              "  cancel.remove();\n",
              "\n",
              "  // Disable the input element since further picks are not allowed.\n",
              "  inputElement.disabled = true;\n",
              "\n",
              "  if (!files) {\n",
              "    return {\n",
              "      response: {\n",
              "        action: 'complete',\n",
              "      }\n",
              "    };\n",
              "  }\n",
              "\n",
              "  for (const file of files) {\n",
              "    const li = document.createElement('li');\n",
              "    li.append(span(file.name, {fontWeight: 'bold'}));\n",
              "    li.append(span(\n",
              "        `(${file.type || 'n/a'}) - ${file.size} bytes, ` +\n",
              "        `last modified: ${\n",
              "            file.lastModifiedDate ? file.lastModifiedDate.toLocaleDateString() :\n",
              "                                    'n/a'} - `));\n",
              "    const percent = span('0% done');\n",
              "    li.appendChild(percent);\n",
              "\n",
              "    outputElement.appendChild(li);\n",
              "\n",
              "    const fileDataPromise = new Promise((resolve) => {\n",
              "      const reader = new FileReader();\n",
              "      reader.onload = (e) => {\n",
              "        resolve(e.target.result);\n",
              "      };\n",
              "      reader.readAsArrayBuffer(file);\n",
              "    });\n",
              "    // Wait for the data to be ready.\n",
              "    let fileData = yield {\n",
              "      promise: fileDataPromise,\n",
              "      response: {\n",
              "        action: 'continue',\n",
              "      }\n",
              "    };\n",
              "\n",
              "    // Use a chunked sending to avoid message size limits. See b/62115660.\n",
              "    let position = 0;\n",
              "    do {\n",
              "      const length = Math.min(fileData.byteLength - position, MAX_PAYLOAD_SIZE);\n",
              "      const chunk = new Uint8Array(fileData, position, length);\n",
              "      position += length;\n",
              "\n",
              "      const base64 = btoa(String.fromCharCode.apply(null, chunk));\n",
              "      yield {\n",
              "        response: {\n",
              "          action: 'append',\n",
              "          file: file.name,\n",
              "          data: base64,\n",
              "        },\n",
              "      };\n",
              "\n",
              "      let percentDone = fileData.byteLength === 0 ?\n",
              "          100 :\n",
              "          Math.round((position / fileData.byteLength) * 100);\n",
              "      percent.textContent = `${percentDone}% done`;\n",
              "\n",
              "    } while (position < fileData.byteLength);\n",
              "  }\n",
              "\n",
              "  // All done.\n",
              "  yield {\n",
              "    response: {\n",
              "      action: 'complete',\n",
              "    }\n",
              "  };\n",
              "}\n",
              "\n",
              "scope.google = scope.google || {};\n",
              "scope.google.colab = scope.google.colab || {};\n",
              "scope.google.colab._files = {\n",
              "  _uploadFiles,\n",
              "  _uploadFilesContinue,\n",
              "};\n",
              "})(self);\n",
              "</script> "
            ]
          },
          "metadata": {}
        },
        {
          "output_type": "stream",
          "name": "stdout",
          "text": [
            "Saving 3_example.npy to 3_example (1).npy\n",
            "Loaded .npy file successfully!\n",
            "Reshaped array to (28, 28) for image processing.\n",
            "Input Image/Array Shape: (28, 28)\n"
          ]
        },
        {
          "output_type": "display_data",
          "data": {
            "text/plain": [
              "<Figure size 640x480 with 2 Axes>"
            ],
            "image/png": "[encoded data removed]"
          },
          "metadata": {}
        },
        {
          "output_type": "stream",
          "name": "stdout",
          "text": [
            "Input Tensor Shape: torch.Size([1, 784])\n",
            "Model Architecture:\n",
            "ExperimentModel1(\n",
            "  (fc1): Linear(in_features=784, out_features=256, bias=True)\n",
            "  (fc2): Linear(in_features=256, out_features=128, bias=True)\n",
            "  (dropout): Dropout(p=0.3, inplace=False)\n",
            "  (fc3): Linear(in_features=128, out_features=64, bias=True)\n",
            "  (fc4): Linear(in_features=64, out_features=10, bias=True)\n",
            ")\n",
            "Model Weights Loaded Successfully!\n",
            "Model Output (Logits): [[-0.20393956 -0.12692346  0.06227987  0.14892268  0.0059376   0.0062652\n",
            "  -0.11062452 -0.12806693 -0.00449331  0.09617307]]\n",
            "Model Output (Probabilities): [[0.08317361 0.08983245 0.10854335 0.11836728 0.10259686 0.10263047\n",
            "  0.09130862 0.08972979 0.10153224 0.11228527]]\n",
            "Predicted Label: 3\n",
            "time: 10.1 s (started: 2025-01-22 12:55:09 +00:00)\n"
          ]
        },
        {
          "output_type": "stream",
          "name": "stderr",
          "text": [
            "<ipython-input-35-ff41bd6a22c4>:59: FutureWarning: You are using `torch.load` with `weights_only=False` (the current default value), which uses the default pickle module implicitly. It is possible to construct malicious pickle data which will execute arbitrary code during unpickling (See https://github.com/pytorch/pytorch/blob/main/SECURITY.md#untrusted-models for more details). In a future release, the default value for `weights_only` will be flipped to `True`. This limits the functions that could be executed during unpickling. Arbitrary objects will no longer be allowed to be loaded via this mode unless they are explicitly allowlisted by the user via `torch.serialization.add_safe_globals`. We recommend you start setting `weights_only=True` for any use case where you don't have full control of the loaded file. Please open an issue on GitHub for any issues related to this experimental feature.\n",
            "  model.load_state_dict(torch.load('best_model.pth', map_location=device))\n"
          ]
        }
      ]
    }
  ]
}